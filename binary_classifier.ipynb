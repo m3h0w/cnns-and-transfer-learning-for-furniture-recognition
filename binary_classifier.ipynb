{
 "cells": [
  {
   "cell_type": "code",
   "execution_count": 8,
   "metadata": {},
   "outputs": [
    {
     "name": "stdout",
     "output_type": "stream",
     "text": [
      "['.git', '.gitignore', '.ipynb_checkpoints', 'binary_classifier.ipynb', 'Classification.ipynb', 'data', 'feature_extractor.py', 'feature_extractor_linux.py', 'keras_test.py', 'LICENSE', 'mlp_200_100.pkl', 'README.md', 'rescale.py', 'Silllina.ipynb', 'submission.csv', 'Untitled.ipynb']\n"
     ]
    }
   ],
   "source": [
    "import numpy as np # linear algebra\n",
    "import pandas as pd # data processing, CSV file I/O (e.g. pd.read_csv)\n",
    "import matplotlib.pyplot as plt\n",
    "import seaborn as sns\n",
    "import json\n",
    "import csv\n",
    "from pandas import DataFrame\n",
    "import time\n",
    "import gc\n",
    "\n",
    "from IPython.display import Image\n",
    "from IPython.core.display import HTML\n",
    "from sklearn import linear_model\n",
    "\n",
    "from scipy.sparse import csr_matrix\n",
    "\n",
    "%matplotlib inline \n",
    "\n",
    "import os\n",
    "print(os.listdir(\".\"))"
   ]
  },
  {
   "cell_type": "code",
   "execution_count": 2,
   "metadata": {},
   "outputs": [],
   "source": [
    "import glob\n",
    "import pickle\n",
    "\n",
    "FEATURES_LOCATION = './data/features/'\n",
    "F_CORE = 'cnn_features_'\n",
    "chosen_class = 1 # the chosen label ot do binary classification on\n",
    "NUM_CLASSES_TO_TEST = 5 # number of classes to do binary classification on\n",
    "\n",
    "def get_label_from_path(file):\n",
    "    return file.split('\\\\')[1].split('.')[0]\n",
    "\n",
    "def load_data(mode):\n",
    "    if(mode == 'test'):\n",
    "        pickle_path = F_CORE + mode\n",
    "        data = pickle.load(open(FEATURES_LOCATION + pickle_path + '.pkl', 'rb'))\n",
    "        to_return = {}\n",
    "        for key, value in list(data.items()):\n",
    "            to_return[get_label_from_path(key)] = value.reshape(1,-1)\n",
    "        return to_return, None\n",
    "    \n",
    "    pickle_path = F_CORE + mode + '_'\n",
    "    \n",
    "    data = {}\n",
    "    for i in range(1,129):\n",
    "        data[i] = pickle.load(open(FEATURES_LOCATION + pickle_path + str(i) + '.pkl', 'rb'))\n",
    "        \n",
    "    X = []\n",
    "    y = []\n",
    "    for key, value in list(data.items()):\n",
    "        #change all labels that is not the chosen label to 0, and change the chosen label to 1\n",
    "        the_class = key\n",
    "        features = np.array(list(value.values()))\n",
    "        for feature in features:\n",
    "            y.append(the_class)\n",
    "            X.append(feature)\n",
    "\n",
    "    return np.array(X), np.array(y)"
   ]
  },
  {
   "cell_type": "code",
   "execution_count": 5,
   "metadata": {},
   "outputs": [
    {
     "name": "stdout",
     "output_type": "stream",
     "text": [
      "Xtrain.shape:  (192171, 2048)\n",
      "ytrain.shape:  (192171,)\n",
      "X_val.shape:  (6309, 2048)\n",
      "y_val.shape:  (6309,)\n"
     ]
    }
   ],
   "source": [
    "X_train, y_train = load_data('train')\n",
    "print(\"Xtrain.shape: \",X_train.shape)\n",
    "print(\"ytrain.shape: \",y_train.shape)\n",
    "# load the training data and rewrite the classes\n",
    "X_val, y_val = load_data('valid')\n",
    "print(\"X_val.shape: \",X_val.shape)\n",
    "print(\"y_val.shape: \",y_val.shape)"
   ]
  },
  {
   "cell_type": "code",
   "execution_count": null,
   "metadata": {},
   "outputs": [],
   "source": [
    "#change all labels that is not the chosen label to 0, and change the chosen label to 1\n",
    "\n",
    "for i in range(len(ytrain)):\n",
    "    if ytrain[i] != chosen_class:\n",
    "        ytrain[i] = 0\n",
    "    else:\n",
    "        ytrain[i] = 1\n"
   ]
  },
  {
   "cell_type": "code",
   "execution_count": null,
   "metadata": {},
   "outputs": [],
   "source": [
    "\n",
    "\n",
    "logreg = linear_model.LogisticRegression()\n",
    "\n",
    "# we create an instance of Neighbours Classifier and fit the data.\n",
    "logreg.fit(XtraX_trainin, y_train)\n",
    "print(\"training complete\")"
   ]
  },
  {
   "cell_type": "code",
   "execution_count": null,
   "metadata": {},
   "outputs": [],
   "source": [
    "\n",
    "print(\"accuracy: \",logreg.score(X_val,y_val))\n"
   ]
  },
  {
   "cell_type": "code",
   "execution_count": null,
   "metadata": {},
   "outputs": [
    {
     "name": "stdout",
     "output_type": "stream",
     "text": [
      "training complete\n",
      "accuracy:  0.9958789031542241\n"
     ]
    }
   ],
   "source": [
    "score_list = []\n",
    "for i in range(0,NUM_CLASSES_TO_TEST):\n",
    "    class_i_X_train = X_train\n",
    "    class_i_y_train = y_train\n",
    "    class_i_X_val = X_val\n",
    "    class_i_y_val = y_val\n",
    "    \n",
    "    # change the trianing data\n",
    "    for i in range(len(class_i_y_train)):\n",
    "        if class_i_y_train[i] != chosen_class:\n",
    "            class_i_y_train[i] = 0\n",
    "        else:\n",
    "            class_i_y_train[i] = 1\n",
    "        \n",
    "    # change the validation data\n",
    "    for i in range(len(class_i_y_val)):\n",
    "        if class_i_y_val[i] != chosen_class:\n",
    "            class_i_y_val[i] = 0\n",
    "        else:\n",
    "            class_i_y_val[i] = 1\n",
    "            \n",
    "    logreg = linear_model.LogisticRegression()\n",
    "    # we create an instance of Neighbours Classifier and fit the data.\n",
    "    logreg.fit(class_i_X_train, class_i_y_train)\n",
    "    print(\"training complete\")\n",
    "    score = logreg.score(class_i_X_val,class_i_y_val)\n",
    "    score_list.append(score)\n",
    "    print(\"accuracy: \",score)\n",
    "    \n",
    "    "
   ]
  },
  {
   "cell_type": "code",
   "execution_count": null,
   "metadata": {},
   "outputs": [],
   "source": []
  }
 ],
 "metadata": {
  "kernelspec": {
   "display_name": "Python 3",
   "language": "python",
   "name": "python3"
  },
  "language_info": {
   "codemirror_mode": {
    "name": "ipython",
    "version": 3
   },
   "file_extension": ".py",
   "mimetype": "text/x-python",
   "name": "python",
   "nbconvert_exporter": "python",
   "pygments_lexer": "ipython3",
   "version": "3.6.4"
  }
 },
 "nbformat": 4,
 "nbformat_minor": 2
}
