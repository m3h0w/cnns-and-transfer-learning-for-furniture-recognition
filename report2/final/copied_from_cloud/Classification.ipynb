{
 "cells": [
  {
   "cell_type": "markdown",
   "metadata": {},
   "source": [
    "To do:\n",
    "- merge valid and train\n",
    "- generate new valid: https://www.kaggle.com/anqitu/data-distribution-eda-and-leaderboard-exploit/code\n",
    "- train linear classifier and compare to MLP performance (drop these features if there is no difference in performance)\n",
    "- try getting activations from earlier in the network\n",
    "- transfer learning: adjust later last layers of ResNet50 to our task\n",
    "- train CNN from scratch: http://cs231n.github.io/transfer-learning/\n",
    "- check scaling"
   ]
  },
  {
   "cell_type": "code",
   "execution_count": 1,
   "metadata": {},
   "outputs": [
    {
     "name": "stdout",
     "output_type": "stream",
     "text": [
      "['submission_ensemble.csv', 'ValAcc79410.h5', 'submission_ensemble_aug_weighted2.csv', 'learnopencv8_ft_11_checkpoint.h5', 'submission_ensemble_aug.csv', 'y_pred_proba_resnet_aug.npy', 'densenet_top_1024_dropout_best4.h5', 'learnopencv9_ft_11_norot_checkpoint.h5', 'densenet_1024_dropout_best.h5', 'VGG-finetuning.ipynb', 'Untitled.ipynb', 'feature_extractor_linux.py', 'learnopencv_vgg4.h5', 'y_pred_proba_resnet.npy', 'learnopencv_vgg5.h5', 'Better resnet.ipynb', 'densenet_top_1024_dropout_best4_batch32.h5', 'learnopencv7_ft_11_checkpoint.h5', 'densenet_top_1024_dropout_best5_batch32.h5', 'y_pred_proba_densenet.npy', 'y_pred_proba_densenet_aug.npy', 'densenet_top_1024_dropout_best.h5', 'densenet_top_1024_dropout_best3.h5', 'transfer_learning.py', 'densenet_top_1024_dropout_best2.h5', 'run.sh', 'densenet_1024_dropout_best_test.h5', 'densenet_top_4000_1000_2.h5', 'densenet_top_1024_dropout_best6_batch32.h5', 'data_valid', 'learnopencv101_ft_checkpoint.h5', 'Untitled1.ipynb', 'classification_checkpoint.h5', 'densenet_top_4000_1000.h5', 'data_train', 'densenet_top_4000_1000_5.h5', '.ipynb_checkpoints', 'classification2_checkpoint.h5', 'cnn_features_train_1.pkl', 'try_this_one.csv', 'submission.csv', 'densenet_top_4000_1000_4.h5', 'densenet.h5', 'multimodel_feature_extractor.py', 'learnopencv_vgg_final.h5', 'Classification.ipynb', 'final', 'densenet_top_1024_dropout_best7_batch32.h5', 'learnopencv6_ft_checkpoint.h5', 'data', 'submission_ensemble_aug_weighted.csv', 'densenet_top_4000_1000_3.h5']\n"
     ]
    }
   ],
   "source": [
    "import numpy as np\n",
    "# import pandas as pd\n",
    "import matplotlib.pyplot as plt\n",
    "# import seaborn as sns\n",
    "import json\n",
    "import csv\n",
    "import time\n",
    "from copy import deepcopy\n",
    "\n",
    "%matplotlib inline \n",
    "\n",
    "import os\n",
    "print(os.listdir(\".\"))\n",
    "import glob\n",
    "import pickle\n",
    "\n",
    "FEATURES_LOCATION = '/home/1nnuser/furniture-data/features_densenet/'\n",
    "F_CORE = 'cnn_features_'\n",
    "\n",
    "def get_label_from_path(file):\n",
    "    return file.split('\\\\')[1].split('.')[0]\n",
    "\n",
    "def load_data(mode):\n",
    "    if(mode == 'test'):\n",
    "        pickle_path = F_CORE + mode\n",
    "        data = pickle.load(open(FEATURES_LOCATION + pickle_path + '.pkl', 'rb'))\n",
    "        to_return = {}\n",
    "        for key, value in list(data.items()):\n",
    "            to_return[get_label_from_path(key)] = value.reshape(1,-1)\n",
    "        return to_return, None\n",
    "    \n",
    "    pickle_path = F_CORE + mode + '_'\n",
    "    \n",
    "    data = {}\n",
    "    for i in range(1,129):\n",
    "        print(\"Pickle:\", i, end='\\r')\n",
    "        data[i] = pickle.load(open(FEATURES_LOCATION + pickle_path + str(i) + '.pkl', 'rb'))\n",
    "        \n",
    "    X = []\n",
    "    y = []\n",
    "    for key, value in list(data.items()):\n",
    "        the_class = key\n",
    "        features = np.array(list(value.values()))\n",
    "        for feature in features:\n",
    "            y.append(the_class)\n",
    "            X.append(feature)\n",
    "\n",
    "    return np.array(X), np.array(y)\n",
    "\n",
    "def get_id_from_path(path):\n",
    "    return int(path.split('/')[-1].split('.')[0])"
   ]
  },
  {
   "cell_type": "code",
   "execution_count": null,
   "metadata": {
    "collapsed": true
   },
   "outputs": [],
   "source": [
    "from tqdm import tqdm\n",
    "import os.path\n",
    "\n",
    "def file_exists(fname):\n",
    "    return os.path.isfile(fname) \n",
    "\n",
    "mode = 'valid'\n",
    "target_shape = (7,7,1920)\n",
    "\n",
    "the_ids = []\n",
    "the_lables = []\n",
    "n_classes = 128\n",
    "for class_ in range(1, n_classes+1):\n",
    "    print('Progress: ', class_, end='\\r')\n",
    "    data = pickle.load(open(FEATURES_LOCATION + F_CORE + mode + '_' + str(class_) + '.pkl', 'rb'))\n",
    "    \n",
    "    features = np.array(list(data.values()))\n",
    "    ids = np.array([get_id_from_path(key) for key in list(data.keys())])\n",
    "    labels = np.array([class_] * len(ids))\n",
    "    \n",
    "    for i in tqdm(range(len(ids))):\n",
    "        if(file_exists('./data_'+mode+'/' + str(ids[i]) +'.npy')):\n",
    "#             print('exists')\n",
    "            continue\n",
    "           \n",
    "        if(features[i].shape == target_shape):\n",
    "            np.save('./data_'+mode+'/' + str(ids[i]), features[i])\n",
    "        else:\n",
    "            print(\"Omitted file:\", ids[i], '. Wrong shape.')\n",
    "        \n",
    "    the_ids.append(ids)\n",
    "    the_lables.append(labels)\n",
    "    \n",
    "    del data\n",
    "    del features\n",
    "    del ids\n",
    "    del labels\n",
    "\n",
    "np.save('./data/meta/'+mode+'_ids', np.concatenate(the_ids))\n",
    "np.save('./data/meta/'+mode+'_labels', np.concatenate(the_lables))\n",
    "#     for i, id_ in enumerate(ids):\n",
    "#         print(\"saved: \", i, end='\\r')\n",
    "#         np.savez_compressed('./data/' + str(id_), features = features[i])"
   ]
  },
  {
   "cell_type": "code",
   "execution_count": null,
   "metadata": {
    "collapsed": true
   },
   "outputs": [],
   "source": [
    "np.save('./data/meta/'+mode+'_ids', np.concatenate(the_ids))\n",
    "np.save('./data/meta/'+mode+'_labels', np.concatenate(the_lables))"
   ]
  },
  {
   "cell_type": "code",
   "execution_count": null,
   "metadata": {
    "collapsed": true
   },
   "outputs": [],
   "source": [
    "np.save('./data_train/meta/'+mode+'_ids_copy', np.concatenate(the_ids))\n",
    "np.save('./data_train/meta/'+mode+'_labels_copy', np.concatenate(the_lables))"
   ]
  },
  {
   "cell_type": "markdown",
   "metadata": {},
   "source": [
    "### Source: https://stanford.edu/~shervine/blog/keras-how-to-generate-data-on-the-fly.html"
   ]
  },
  {
   "cell_type": "code",
   "execution_count": 2,
   "metadata": {},
   "outputs": [
    {
     "name": "stderr",
     "output_type": "stream",
     "text": [
      "/home/1nnuser/lsdaenv/lib/python3.5/site-packages/h5py/__init__.py:36: FutureWarning: Conversion of the second argument of issubdtype from `float` to `np.floating` is deprecated. In future, it will be treated as `np.float64 == np.dtype(float).type`.\n",
      "  from ._conv import register_converters as _register_converters\n",
      "Using TensorFlow backend.\n"
     ]
    }
   ],
   "source": [
    "import numpy as np\n",
    "import keras\n",
    "\n",
    "class DataGenerator(keras.utils.Sequence):\n",
    "    'Generates data for Keras'\n",
    "    def __init__(self, list_IDs, labels, batch_size=32, dim=(32,32,32), n_channels=1,\n",
    "                 n_classes=10, shuffle=True, data_path = 'data/'):\n",
    "        'Initialization'\n",
    "        self.dim = dim\n",
    "        self.batch_size = batch_size\n",
    "        self.labels = labels\n",
    "        self.list_IDs = list_IDs\n",
    "        self.n_channels = n_channels\n",
    "        self.n_classes = n_classes\n",
    "        self.shuffle = shuffle\n",
    "        self.data_path = data_path\n",
    "        self.on_epoch_end()\n",
    "\n",
    "    def __len__(self):\n",
    "        'Denotes the number of batches per epoch'\n",
    "        return int(np.floor(len(self.list_IDs) / self.batch_size))\n",
    "\n",
    "    def __getitem__(self, index):\n",
    "        'Generate one batch of data'\n",
    "        # Generate indexes of the batch\n",
    "        indexes = self.indexes[index*self.batch_size:(index+1)*self.batch_size]\n",
    "\n",
    "        # Find list of IDs\n",
    "        list_IDs_temp = [self.list_IDs[k] for k in indexes]\n",
    "\n",
    "        # Generate data\n",
    "        X, y = self.__data_generation(list_IDs_temp)\n",
    "\n",
    "        return X, y\n",
    "\n",
    "    def on_epoch_end(self):\n",
    "        'Updates indexes after each epoch'\n",
    "        self.indexes = np.arange(len(self.list_IDs))\n",
    "        if self.shuffle == True:\n",
    "            np.random.shuffle(self.indexes)\n",
    "\n",
    "    def __data_generation(self, list_IDs_temp):\n",
    "        'Generates data containing batch_size samples' # X : (n_samples, *dim, n_channels?)\n",
    "        # Initialization\n",
    "        if(self.n_channels and self.n_channels > 0):\n",
    "            X = np.empty((self.batch_size, *self.dim, self.n_channels))\n",
    "        else:\n",
    "            X = np.empty((self.batch_size, *self.dim))\n",
    "            \n",
    "        y = np.empty((self.batch_size), dtype=int)\n",
    "\n",
    "        # Generate data\n",
    "        for i, ID in enumerate(list_IDs_temp):\n",
    "            try:\n",
    "                sample = np.load(self.data_path + str(ID) + '.npy')\n",
    "                if(sample.shape == self.dim):            \n",
    "                    # Store sample\n",
    "                    X[i,] = np.load(self.data_path + str(ID) + '.npy')\n",
    "\n",
    "                    if(self.labels):\n",
    "                        y[i] = self.labels[ID]\n",
    "            except:\n",
    "                continue\n",
    "\n",
    "        return X, keras.utils.to_categorical(y, num_classes=self.n_classes)"
   ]
  },
  {
   "cell_type": "code",
   "execution_count": null,
   "metadata": {
    "collapsed": true
   },
   "outputs": [],
   "source": [
    "model = keras.models.load_model('./final/ResNetTop_ValAcc7941.h5')"
   ]
  },
  {
   "cell_type": "code",
   "execution_count": null,
   "metadata": {
    "collapsed": true
   },
   "outputs": [],
   "source": [
    "model.summary()"
   ]
  },
  {
   "cell_type": "code",
   "execution_count": null,
   "metadata": {
    "collapsed": true
   },
   "outputs": [],
   "source": [
    "# Datasets\n",
    "train_ids = np.load('./data/meta/train_ids.npy')\n",
    "train_labels = np.load('./data/meta/train_labels.npy')"
   ]
  },
  {
   "cell_type": "code",
   "execution_count": null,
   "metadata": {
    "collapsed": true
   },
   "outputs": [],
   "source": [
    "print(train_ids.shape)\n",
    "print(labels.shape)"
   ]
  },
  {
   "cell_type": "code",
   "execution_count": null,
   "metadata": {
    "collapsed": true
   },
   "outputs": [],
   "source": [
    "training_generator.labels"
   ]
  },
  {
   "cell_type": "code",
   "execution_count": null,
   "metadata": {
    "collapsed": true
   },
   "outputs": [],
   "source": [
    "# labels = np.delete(train_ids, [117531])\n",
    "# # np.load('data/' + str(train_ids[117531]) + '.npy')\n",
    "# np.save('./data/meta/train_ids', train_ids)\n",
    "# np.save('./data/meta/train_labels', labels)"
   ]
  },
  {
   "cell_type": "code",
   "execution_count": null,
   "metadata": {
    "collapsed": true
   },
   "outputs": [],
   "source": [
    "for i, id_ in enumerate(train_ids[117520:]):\n",
    "    print(i, id_, end='\\r')\n",
    "    sample = np.load('data_train/' + str(id_) + '.npy')\n",
    "    if sample.shape[0] != 7 or sample.shape[1] != 7 or sample.shape[2] != 1920:\n",
    "        print(sample.shape, id_)"
   ]
  },
  {
   "cell_type": "code",
   "execution_count": null,
   "metadata": {
    "collapsed": true
   },
   "outputs": [],
   "source": [
    "labels = {train_id: labels[i] for i, train_id in enumerate(train_ids)}"
   ]
  },
  {
   "cell_type": "code",
   "execution_count": 5,
   "metadata": {
    "collapsed": true
   },
   "outputs": [],
   "source": [
    "import numpy as np\n",
    "\n",
    "from keras.models import Sequential\n",
    "from keras.layers import Dense, Flatten, Dropout\n",
    "import keras\n",
    "\n",
    "from keras import backend as K\n",
    "K.clear_session()\n",
    "\n",
    "n_classes = 128\n",
    "\n",
    "# Parameters\n",
    "train_params = {'dim': (7,7,1920),\n",
    "          'batch_size': 32,\n",
    "          'n_classes': n_classes,\n",
    "          'n_channels': None,\n",
    "          'shuffle': True,\n",
    "          'data_path': 'data_train/'}\n",
    "\n",
    "valid_params = {'dim': (7,7,1920),\n",
    "          'batch_size': 10,\n",
    "          'n_classes': n_classes,\n",
    "          'n_channels': None,\n",
    "          'shuffle': False,\n",
    "          'data_path': 'data_valid/'}\n",
    "\n",
    "# Datasets\n",
    "train_ids = np.load('./data/meta/train_ids.npy')\n",
    "train_labels = np.load('./data/meta/train_labels.npy')\n",
    "train_labels = {id_: train_labels[i]-1 for i, id_ in enumerate(train_ids)}\n",
    "\n",
    "valid_ids = np.load('./data/meta/valid_ids.npy')\n",
    "valid_labels = np.load('./data/meta/valid_labels.npy')\n",
    "valid_labels = {id_: valid_labels[i]-1 for i, id_ in enumerate(valid_ids)}\n",
    "\n",
    "# Generators\n",
    "training_generator = DataGenerator(train_ids, train_labels, **train_params)\n",
    "validation_generator = DataGenerator(valid_ids, valid_labels, **valid_params)\n",
    "\n",
    "# Design model\n",
    "model = Sequential()\n",
    "model.add(Flatten(name='flat', input_shape=(7,7,1920)))\n",
    "# model.add(Dropout(0.1, name='flat_dropout'))\n",
    "model.add(Dense(4000, activation='relu', name='hidden_4000'))\n",
    "model.add(Dropout(0.2, name='hidden_4000_dropout'))\n",
    "model.add(Dense(1000, activation='relu', name='hidden_1000'))\n",
    "model.add(Dropout(0.2, name='hidden_1000_dropout'))\n",
    "model.add(Dense(n_classes, activation='softmax', name='classification'))"
   ]
  },
  {
   "cell_type": "code",
   "execution_count": 6,
   "metadata": {},
   "outputs": [
    {
     "name": "stdout",
     "output_type": "stream",
     "text": [
      "Epoch 1/3\n"
     ]
    },
    {
     "ename": "ResourceExhaustedError",
     "evalue": "OOM when allocating tensor with shape[94080,4000] and type float on /job:localhost/replica:0/task:0/device:GPU:0 by allocator GPU_0_bfc\n\t [[Node: training/Adam/Variable/Assign = Assign[T=DT_FLOAT, _class=[\"loc:@training/Adam/Variable\"], use_locking=true, validate_shape=true, _device=\"/job:localhost/replica:0/task:0/device:GPU:0\"](training/Adam/Variable, training/Adam/zeros)]]\nHint: If you want to see a list of allocated tensors when OOM happens, add report_tensor_allocations_upon_oom to RunOptions for current allocation info.\n\n\nCaused by op 'training/Adam/Variable/Assign', defined at:\n  File \"/usr/lib/python3.5/runpy.py\", line 184, in _run_module_as_main\n    \"__main__\", mod_spec)\n  File \"/usr/lib/python3.5/runpy.py\", line 85, in _run_code\n    exec(code, run_globals)\n  File \"/home/1nnuser/lsdaenv/lib/python3.5/site-packages/ipykernel_launcher.py\", line 16, in <module>\n    app.launch_new_instance()\n  File \"/home/1nnuser/lsdaenv/lib/python3.5/site-packages/traitlets/config/application.py\", line 658, in launch_instance\n    app.start()\n  File \"/home/1nnuser/lsdaenv/lib/python3.5/site-packages/ipykernel/kernelapp.py\", line 486, in start\n    self.io_loop.start()\n  File \"/home/1nnuser/lsdaenv/lib/python3.5/site-packages/tornado/platform/asyncio.py\", line 127, in start\n    self.asyncio_loop.run_forever()\n  File \"/usr/lib/python3.5/asyncio/base_events.py\", line 345, in run_forever\n    self._run_once()\n  File \"/usr/lib/python3.5/asyncio/base_events.py\", line 1312, in _run_once\n    handle._run()\n  File \"/usr/lib/python3.5/asyncio/events.py\", line 125, in _run\n    self._callback(*self._args)\n  File \"/home/1nnuser/lsdaenv/lib/python3.5/site-packages/tornado/platform/asyncio.py\", line 117, in _handle_events\n    handler_func(fileobj, events)\n  File \"/home/1nnuser/lsdaenv/lib/python3.5/site-packages/tornado/stack_context.py\", line 276, in null_wrapper\n    return fn(*args, **kwargs)\n  File \"/home/1nnuser/lsdaenv/lib/python3.5/site-packages/zmq/eventloop/zmqstream.py\", line 450, in _handle_events\n    self._handle_recv()\n  File \"/home/1nnuser/lsdaenv/lib/python3.5/site-packages/zmq/eventloop/zmqstream.py\", line 480, in _handle_recv\n    self._run_callback(callback, msg)\n  File \"/home/1nnuser/lsdaenv/lib/python3.5/site-packages/zmq/eventloop/zmqstream.py\", line 432, in _run_callback\n    callback(*args, **kwargs)\n  File \"/home/1nnuser/lsdaenv/lib/python3.5/site-packages/tornado/stack_context.py\", line 276, in null_wrapper\n    return fn(*args, **kwargs)\n  File \"/home/1nnuser/lsdaenv/lib/python3.5/site-packages/ipykernel/kernelbase.py\", line 283, in dispatcher\n    return self.dispatch_shell(stream, msg)\n  File \"/home/1nnuser/lsdaenv/lib/python3.5/site-packages/ipykernel/kernelbase.py\", line 233, in dispatch_shell\n    handler(stream, idents, msg)\n  File \"/home/1nnuser/lsdaenv/lib/python3.5/site-packages/ipykernel/kernelbase.py\", line 399, in execute_request\n    user_expressions, allow_stdin)\n  File \"/home/1nnuser/lsdaenv/lib/python3.5/site-packages/ipykernel/ipkernel.py\", line 208, in do_execute\n    res = shell.run_cell(code, store_history=store_history, silent=silent)\n  File \"/home/1nnuser/lsdaenv/lib/python3.5/site-packages/ipykernel/zmqshell.py\", line 537, in run_cell\n    return super(ZMQInteractiveShell, self).run_cell(*args, **kwargs)\n  File \"/home/1nnuser/lsdaenv/lib/python3.5/site-packages/IPython/core/interactiveshell.py\", line 2662, in run_cell\n    raw_cell, store_history, silent, shell_futures)\n  File \"/home/1nnuser/lsdaenv/lib/python3.5/site-packages/IPython/core/interactiveshell.py\", line 2785, in _run_cell\n    interactivity=interactivity, compiler=compiler, result=result)\n  File \"/home/1nnuser/lsdaenv/lib/python3.5/site-packages/IPython/core/interactiveshell.py\", line 2909, in run_ast_nodes\n    if self.run_code(code, result):\n  File \"/home/1nnuser/lsdaenv/lib/python3.5/site-packages/IPython/core/interactiveshell.py\", line 2963, in run_code\n    exec(code_obj, self.user_global_ns, self.user_ns)\n  File \"<ipython-input-6-1d2b58dbeb02>\", line 20, in <module>\n    steps_per_epoch=400)\n  File \"/usr/local/lib/python3.5/dist-packages/keras/legacy/interfaces.py\", line 91, in wrapper\n    return func(*args, **kwargs)\n  File \"/usr/local/lib/python3.5/dist-packages/keras/models.py\", line 1253, in fit_generator\n    initial_epoch=initial_epoch)\n  File \"/usr/local/lib/python3.5/dist-packages/keras/legacy/interfaces.py\", line 91, in wrapper\n    return func(*args, **kwargs)\n  File \"/usr/local/lib/python3.5/dist-packages/keras/engine/training.py\", line 2088, in fit_generator\n    self._make_train_function()\n  File \"/usr/local/lib/python3.5/dist-packages/keras/engine/training.py\", line 990, in _make_train_function\n    loss=self.total_loss)\n  File \"/usr/local/lib/python3.5/dist-packages/keras/legacy/interfaces.py\", line 91, in wrapper\n    return func(*args, **kwargs)\n  File \"/usr/local/lib/python3.5/dist-packages/keras/optimizers.py\", line 452, in get_updates\n    ms = [K.zeros(K.int_shape(p), dtype=K.dtype(p)) for p in params]\n  File \"/usr/local/lib/python3.5/dist-packages/keras/optimizers.py\", line 452, in <listcomp>\n    ms = [K.zeros(K.int_shape(p), dtype=K.dtype(p)) for p in params]\n  File \"/usr/local/lib/python3.5/dist-packages/keras/backend/tensorflow_backend.py\", line 691, in zeros\n    return variable(v, dtype=dtype, name=name)\n  File \"/usr/local/lib/python3.5/dist-packages/keras/backend/tensorflow_backend.py\", line 392, in variable\n    v = tf.Variable(value, dtype=tf.as_dtype(dtype), name=name)\n  File \"/home/1nnuser/lsdaenv/lib/python3.5/site-packages/tensorflow/python/ops/variables.py\", line 235, in __init__\n    constraint=constraint)\n  File \"/home/1nnuser/lsdaenv/lib/python3.5/site-packages/tensorflow/python/ops/variables.py\", line 381, in _init_from_args\n    validate_shape=validate_shape).op\n  File \"/home/1nnuser/lsdaenv/lib/python3.5/site-packages/tensorflow/python/ops/state_ops.py\", line 281, in assign\n    validate_shape=validate_shape)\n  File \"/home/1nnuser/lsdaenv/lib/python3.5/site-packages/tensorflow/python/ops/gen_state_ops.py\", line 61, in assign\n    use_locking=use_locking, name=name)\n  File \"/home/1nnuser/lsdaenv/lib/python3.5/site-packages/tensorflow/python/framework/op_def_library.py\", line 787, in _apply_op_helper\n    op_def=op_def)\n  File \"/home/1nnuser/lsdaenv/lib/python3.5/site-packages/tensorflow/python/framework/ops.py\", line 3290, in create_op\n    op_def=op_def)\n  File \"/home/1nnuser/lsdaenv/lib/python3.5/site-packages/tensorflow/python/framework/ops.py\", line 1654, in __init__\n    self._traceback = self._graph._extract_stack()  # pylint: disable=protected-access\n\nResourceExhaustedError (see above for traceback): OOM when allocating tensor with shape[94080,4000] and type float on /job:localhost/replica:0/task:0/device:GPU:0 by allocator GPU_0_bfc\n\t [[Node: training/Adam/Variable/Assign = Assign[T=DT_FLOAT, _class=[\"loc:@training/Adam/Variable\"], use_locking=true, validate_shape=true, _device=\"/job:localhost/replica:0/task:0/device:GPU:0\"](training/Adam/Variable, training/Adam/zeros)]]\nHint: If you want to see a list of allocated tensors when OOM happens, add report_tensor_allocations_upon_oom to RunOptions for current allocation info.\n\n",
     "output_type": "error",
     "traceback": [
      "\u001b[0;31m---------------------------------------------------------------------------\u001b[0m",
      "\u001b[0;31mResourceExhaustedError\u001b[0m                    Traceback (most recent call last)",
      "\u001b[0;32m~/lsdaenv/lib/python3.5/site-packages/tensorflow/python/client/session.py\u001b[0m in \u001b[0;36m_do_call\u001b[0;34m(self, fn, *args)\u001b[0m\n\u001b[1;32m   1326\u001b[0m     \u001b[0;32mtry\u001b[0m\u001b[0;34m:\u001b[0m\u001b[0;34m\u001b[0m\u001b[0m\n\u001b[0;32m-> 1327\u001b[0;31m       \u001b[0;32mreturn\u001b[0m \u001b[0mfn\u001b[0m\u001b[0;34m(\u001b[0m\u001b[0;34m*\u001b[0m\u001b[0margs\u001b[0m\u001b[0;34m)\u001b[0m\u001b[0;34m\u001b[0m\u001b[0m\n\u001b[0m\u001b[1;32m   1328\u001b[0m     \u001b[0;32mexcept\u001b[0m \u001b[0merrors\u001b[0m\u001b[0;34m.\u001b[0m\u001b[0mOpError\u001b[0m \u001b[0;32mas\u001b[0m \u001b[0me\u001b[0m\u001b[0;34m:\u001b[0m\u001b[0;34m\u001b[0m\u001b[0m\n",
      "\u001b[0;32m~/lsdaenv/lib/python3.5/site-packages/tensorflow/python/client/session.py\u001b[0m in \u001b[0;36m_run_fn\u001b[0;34m(feed_dict, fetch_list, target_list, options, run_metadata)\u001b[0m\n\u001b[1;32m   1311\u001b[0m       return self._call_tf_sessionrun(\n\u001b[0;32m-> 1312\u001b[0;31m           options, feed_dict, fetch_list, target_list, run_metadata)\n\u001b[0m\u001b[1;32m   1313\u001b[0m \u001b[0;34m\u001b[0m\u001b[0m\n",
      "\u001b[0;32m~/lsdaenv/lib/python3.5/site-packages/tensorflow/python/client/session.py\u001b[0m in \u001b[0;36m_call_tf_sessionrun\u001b[0;34m(self, options, feed_dict, fetch_list, target_list, run_metadata)\u001b[0m\n\u001b[1;32m   1419\u001b[0m             \u001b[0mself\u001b[0m\u001b[0;34m.\u001b[0m\u001b[0m_session\u001b[0m\u001b[0;34m,\u001b[0m \u001b[0moptions\u001b[0m\u001b[0;34m,\u001b[0m \u001b[0mfeed_dict\u001b[0m\u001b[0;34m,\u001b[0m \u001b[0mfetch_list\u001b[0m\u001b[0;34m,\u001b[0m \u001b[0mtarget_list\u001b[0m\u001b[0;34m,\u001b[0m\u001b[0;34m\u001b[0m\u001b[0m\n\u001b[0;32m-> 1420\u001b[0;31m             status, run_metadata)\n\u001b[0m\u001b[1;32m   1421\u001b[0m \u001b[0;34m\u001b[0m\u001b[0m\n",
      "\u001b[0;32m~/lsdaenv/lib/python3.5/site-packages/tensorflow/python/framework/errors_impl.py\u001b[0m in \u001b[0;36m__exit__\u001b[0;34m(self, type_arg, value_arg, traceback_arg)\u001b[0m\n\u001b[1;32m    515\u001b[0m             \u001b[0mcompat\u001b[0m\u001b[0;34m.\u001b[0m\u001b[0mas_text\u001b[0m\u001b[0;34m(\u001b[0m\u001b[0mc_api\u001b[0m\u001b[0;34m.\u001b[0m\u001b[0mTF_Message\u001b[0m\u001b[0;34m(\u001b[0m\u001b[0mself\u001b[0m\u001b[0;34m.\u001b[0m\u001b[0mstatus\u001b[0m\u001b[0;34m.\u001b[0m\u001b[0mstatus\u001b[0m\u001b[0;34m)\u001b[0m\u001b[0;34m)\u001b[0m\u001b[0;34m,\u001b[0m\u001b[0;34m\u001b[0m\u001b[0m\n\u001b[0;32m--> 516\u001b[0;31m             c_api.TF_GetCode(self.status.status))\n\u001b[0m\u001b[1;32m    517\u001b[0m     \u001b[0;31m# Delete the underlying status object from memory otherwise it stays alive\u001b[0m\u001b[0;34m\u001b[0m\u001b[0;34m\u001b[0m\u001b[0m\n",
      "\u001b[0;31mResourceExhaustedError\u001b[0m: OOM when allocating tensor with shape[94080,4000] and type float on /job:localhost/replica:0/task:0/device:GPU:0 by allocator GPU_0_bfc\n\t [[Node: training/Adam/Variable/Assign = Assign[T=DT_FLOAT, _class=[\"loc:@training/Adam/Variable\"], use_locking=true, validate_shape=true, _device=\"/job:localhost/replica:0/task:0/device:GPU:0\"](training/Adam/Variable, training/Adam/zeros)]]\nHint: If you want to see a list of allocated tensors when OOM happens, add report_tensor_allocations_upon_oom to RunOptions for current allocation info.\n",
      "\nDuring handling of the above exception, another exception occurred:\n",
      "\u001b[0;31mResourceExhaustedError\u001b[0m                    Traceback (most recent call last)",
      "\u001b[0;32m<ipython-input-6-1d2b58dbeb02>\u001b[0m in \u001b[0;36m<module>\u001b[0;34m()\u001b[0m\n\u001b[1;32m     18\u001b[0m                     \u001b[0mcallbacks\u001b[0m\u001b[0;34m=\u001b[0m\u001b[0;34m[\u001b[0m\u001b[0mkeras\u001b[0m\u001b[0;34m.\u001b[0m\u001b[0mcallbacks\u001b[0m\u001b[0;34m.\u001b[0m\u001b[0mModelCheckpoint\u001b[0m\u001b[0;34m(\u001b[0m\u001b[0;34m'densenet_top_4000_1000_2.h5'\u001b[0m\u001b[0;34m,\u001b[0m \u001b[0mmonitor\u001b[0m\u001b[0;34m=\u001b[0m\u001b[0;34m'val_acc'\u001b[0m\u001b[0;34m,\u001b[0m \u001b[0mverbose\u001b[0m\u001b[0;34m=\u001b[0m\u001b[0;36m2\u001b[0m\u001b[0;34m,\u001b[0m \u001b[0msave_best_only\u001b[0m\u001b[0;34m=\u001b[0m\u001b[0;32mTrue\u001b[0m\u001b[0;34m,\u001b[0m \u001b[0mmode\u001b[0m\u001b[0;34m=\u001b[0m\u001b[0;34m'auto'\u001b[0m\u001b[0;34m,\u001b[0m \u001b[0mperiod\u001b[0m\u001b[0;34m=\u001b[0m\u001b[0;36m1\u001b[0m\u001b[0;34m)\u001b[0m\u001b[0;34m]\u001b[0m\u001b[0;34m,\u001b[0m\u001b[0;34m\u001b[0m\u001b[0m\n\u001b[1;32m     19\u001b[0m                     \u001b[0mepochs\u001b[0m\u001b[0;34m=\u001b[0m\u001b[0;36m3\u001b[0m\u001b[0;34m,\u001b[0m\u001b[0;34m\u001b[0m\u001b[0m\n\u001b[0;32m---> 20\u001b[0;31m                     steps_per_epoch=400)\n\u001b[0m",
      "\u001b[0;32m/usr/local/lib/python3.5/dist-packages/keras/legacy/interfaces.py\u001b[0m in \u001b[0;36mwrapper\u001b[0;34m(*args, **kwargs)\u001b[0m\n\u001b[1;32m     89\u001b[0m                 warnings.warn('Update your `' + object_name +\n\u001b[1;32m     90\u001b[0m                               '` call to the Keras 2 API: ' + signature, stacklevel=2)\n\u001b[0;32m---> 91\u001b[0;31m             \u001b[0;32mreturn\u001b[0m \u001b[0mfunc\u001b[0m\u001b[0;34m(\u001b[0m\u001b[0;34m*\u001b[0m\u001b[0margs\u001b[0m\u001b[0;34m,\u001b[0m \u001b[0;34m**\u001b[0m\u001b[0mkwargs\u001b[0m\u001b[0;34m)\u001b[0m\u001b[0;34m\u001b[0m\u001b[0m\n\u001b[0m\u001b[1;32m     92\u001b[0m         \u001b[0mwrapper\u001b[0m\u001b[0;34m.\u001b[0m\u001b[0m_original_function\u001b[0m \u001b[0;34m=\u001b[0m \u001b[0mfunc\u001b[0m\u001b[0;34m\u001b[0m\u001b[0m\n\u001b[1;32m     93\u001b[0m         \u001b[0;32mreturn\u001b[0m \u001b[0mwrapper\u001b[0m\u001b[0;34m\u001b[0m\u001b[0m\n",
      "\u001b[0;32m/usr/local/lib/python3.5/dist-packages/keras/models.py\u001b[0m in \u001b[0;36mfit_generator\u001b[0;34m(self, generator, steps_per_epoch, epochs, verbose, callbacks, validation_data, validation_steps, class_weight, max_queue_size, workers, use_multiprocessing, shuffle, initial_epoch)\u001b[0m\n\u001b[1;32m   1251\u001b[0m                                         \u001b[0muse_multiprocessing\u001b[0m\u001b[0;34m=\u001b[0m\u001b[0muse_multiprocessing\u001b[0m\u001b[0;34m,\u001b[0m\u001b[0;34m\u001b[0m\u001b[0m\n\u001b[1;32m   1252\u001b[0m                                         \u001b[0mshuffle\u001b[0m\u001b[0;34m=\u001b[0m\u001b[0mshuffle\u001b[0m\u001b[0;34m,\u001b[0m\u001b[0;34m\u001b[0m\u001b[0m\n\u001b[0;32m-> 1253\u001b[0;31m                                         initial_epoch=initial_epoch)\n\u001b[0m\u001b[1;32m   1254\u001b[0m \u001b[0;34m\u001b[0m\u001b[0m\n\u001b[1;32m   1255\u001b[0m     \u001b[0;34m@\u001b[0m\u001b[0minterfaces\u001b[0m\u001b[0;34m.\u001b[0m\u001b[0mlegacy_generator_methods_support\u001b[0m\u001b[0;34m\u001b[0m\u001b[0m\n",
      "\u001b[0;32m/usr/local/lib/python3.5/dist-packages/keras/legacy/interfaces.py\u001b[0m in \u001b[0;36mwrapper\u001b[0;34m(*args, **kwargs)\u001b[0m\n\u001b[1;32m     89\u001b[0m                 warnings.warn('Update your `' + object_name +\n\u001b[1;32m     90\u001b[0m                               '` call to the Keras 2 API: ' + signature, stacklevel=2)\n\u001b[0;32m---> 91\u001b[0;31m             \u001b[0;32mreturn\u001b[0m \u001b[0mfunc\u001b[0m\u001b[0;34m(\u001b[0m\u001b[0;34m*\u001b[0m\u001b[0margs\u001b[0m\u001b[0;34m,\u001b[0m \u001b[0;34m**\u001b[0m\u001b[0mkwargs\u001b[0m\u001b[0;34m)\u001b[0m\u001b[0;34m\u001b[0m\u001b[0m\n\u001b[0m\u001b[1;32m     92\u001b[0m         \u001b[0mwrapper\u001b[0m\u001b[0;34m.\u001b[0m\u001b[0m_original_function\u001b[0m \u001b[0;34m=\u001b[0m \u001b[0mfunc\u001b[0m\u001b[0;34m\u001b[0m\u001b[0m\n\u001b[1;32m     93\u001b[0m         \u001b[0;32mreturn\u001b[0m \u001b[0mwrapper\u001b[0m\u001b[0;34m\u001b[0m\u001b[0m\n",
      "\u001b[0;32m/usr/local/lib/python3.5/dist-packages/keras/engine/training.py\u001b[0m in \u001b[0;36mfit_generator\u001b[0;34m(self, generator, steps_per_epoch, epochs, verbose, callbacks, validation_data, validation_steps, class_weight, max_queue_size, workers, use_multiprocessing, shuffle, initial_epoch)\u001b[0m\n\u001b[1;32m   2242\u001b[0m                     outs = self.train_on_batch(x, y,\n\u001b[1;32m   2243\u001b[0m                                                \u001b[0msample_weight\u001b[0m\u001b[0;34m=\u001b[0m\u001b[0msample_weight\u001b[0m\u001b[0;34m,\u001b[0m\u001b[0;34m\u001b[0m\u001b[0m\n\u001b[0;32m-> 2244\u001b[0;31m                                                class_weight=class_weight)\n\u001b[0m\u001b[1;32m   2245\u001b[0m \u001b[0;34m\u001b[0m\u001b[0m\n\u001b[1;32m   2246\u001b[0m                     \u001b[0;32mif\u001b[0m \u001b[0;32mnot\u001b[0m \u001b[0misinstance\u001b[0m\u001b[0;34m(\u001b[0m\u001b[0mouts\u001b[0m\u001b[0;34m,\u001b[0m \u001b[0mlist\u001b[0m\u001b[0;34m)\u001b[0m\u001b[0;34m:\u001b[0m\u001b[0;34m\u001b[0m\u001b[0m\n",
      "\u001b[0;32m/usr/local/lib/python3.5/dist-packages/keras/engine/training.py\u001b[0m in \u001b[0;36mtrain_on_batch\u001b[0;34m(self, x, y, sample_weight, class_weight)\u001b[0m\n\u001b[1;32m   1888\u001b[0m             \u001b[0mins\u001b[0m \u001b[0;34m=\u001b[0m \u001b[0mx\u001b[0m \u001b[0;34m+\u001b[0m \u001b[0my\u001b[0m \u001b[0;34m+\u001b[0m \u001b[0msample_weights\u001b[0m\u001b[0;34m\u001b[0m\u001b[0m\n\u001b[1;32m   1889\u001b[0m         \u001b[0mself\u001b[0m\u001b[0;34m.\u001b[0m\u001b[0m_make_train_function\u001b[0m\u001b[0;34m(\u001b[0m\u001b[0;34m)\u001b[0m\u001b[0;34m\u001b[0m\u001b[0m\n\u001b[0;32m-> 1890\u001b[0;31m         \u001b[0moutputs\u001b[0m \u001b[0;34m=\u001b[0m \u001b[0mself\u001b[0m\u001b[0;34m.\u001b[0m\u001b[0mtrain_function\u001b[0m\u001b[0;34m(\u001b[0m\u001b[0mins\u001b[0m\u001b[0;34m)\u001b[0m\u001b[0;34m\u001b[0m\u001b[0m\n\u001b[0m\u001b[1;32m   1891\u001b[0m         \u001b[0;32mif\u001b[0m \u001b[0mlen\u001b[0m\u001b[0;34m(\u001b[0m\u001b[0moutputs\u001b[0m\u001b[0;34m)\u001b[0m \u001b[0;34m==\u001b[0m \u001b[0;36m1\u001b[0m\u001b[0;34m:\u001b[0m\u001b[0;34m\u001b[0m\u001b[0m\n\u001b[1;32m   1892\u001b[0m             \u001b[0;32mreturn\u001b[0m \u001b[0moutputs\u001b[0m\u001b[0;34m[\u001b[0m\u001b[0;36m0\u001b[0m\u001b[0;34m]\u001b[0m\u001b[0;34m\u001b[0m\u001b[0m\n",
      "\u001b[0;32m/usr/local/lib/python3.5/dist-packages/keras/backend/tensorflow_backend.py\u001b[0m in \u001b[0;36m__call__\u001b[0;34m(self, inputs)\u001b[0m\n\u001b[1;32m   2471\u001b[0m             \u001b[0mfeed_dict\u001b[0m\u001b[0;34m[\u001b[0m\u001b[0mtensor\u001b[0m\u001b[0;34m]\u001b[0m \u001b[0;34m=\u001b[0m \u001b[0mvalue\u001b[0m\u001b[0;34m\u001b[0m\u001b[0m\n\u001b[1;32m   2472\u001b[0m         \u001b[0mfetches\u001b[0m \u001b[0;34m=\u001b[0m \u001b[0mself\u001b[0m\u001b[0;34m.\u001b[0m\u001b[0moutputs\u001b[0m \u001b[0;34m+\u001b[0m \u001b[0;34m[\u001b[0m\u001b[0mself\u001b[0m\u001b[0;34m.\u001b[0m\u001b[0mupdates_op\u001b[0m\u001b[0;34m]\u001b[0m \u001b[0;34m+\u001b[0m \u001b[0mself\u001b[0m\u001b[0;34m.\u001b[0m\u001b[0mfetches\u001b[0m\u001b[0;34m\u001b[0m\u001b[0m\n\u001b[0;32m-> 2473\u001b[0;31m         \u001b[0msession\u001b[0m \u001b[0;34m=\u001b[0m \u001b[0mget_session\u001b[0m\u001b[0;34m(\u001b[0m\u001b[0;34m)\u001b[0m\u001b[0;34m\u001b[0m\u001b[0m\n\u001b[0m\u001b[1;32m   2474\u001b[0m         updated = session.run(fetches=fetches, feed_dict=feed_dict,\n\u001b[1;32m   2475\u001b[0m                               **self.session_kwargs)\n",
      "\u001b[0;32m/usr/local/lib/python3.5/dist-packages/keras/backend/tensorflow_backend.py\u001b[0m in \u001b[0;36mget_session\u001b[0;34m()\u001b[0m\n\u001b[1;32m    194\u001b[0m                     \u001b[0mv\u001b[0m\u001b[0;34m.\u001b[0m\u001b[0m_keras_initialized\u001b[0m \u001b[0;34m=\u001b[0m \u001b[0;32mTrue\u001b[0m\u001b[0;34m\u001b[0m\u001b[0m\n\u001b[1;32m    195\u001b[0m                 \u001b[0;32mif\u001b[0m \u001b[0muninitialized_vars\u001b[0m\u001b[0;34m:\u001b[0m\u001b[0;34m\u001b[0m\u001b[0m\n\u001b[0;32m--> 196\u001b[0;31m                     \u001b[0msession\u001b[0m\u001b[0;34m.\u001b[0m\u001b[0mrun\u001b[0m\u001b[0;34m(\u001b[0m\u001b[0mtf\u001b[0m\u001b[0;34m.\u001b[0m\u001b[0mvariables_initializer\u001b[0m\u001b[0;34m(\u001b[0m\u001b[0muninitialized_vars\u001b[0m\u001b[0;34m)\u001b[0m\u001b[0;34m)\u001b[0m\u001b[0;34m\u001b[0m\u001b[0m\n\u001b[0m\u001b[1;32m    197\u001b[0m     \u001b[0;31m# hack for list_devices() function.\u001b[0m\u001b[0;34m\u001b[0m\u001b[0;34m\u001b[0m\u001b[0m\n\u001b[1;32m    198\u001b[0m     \u001b[0;31m# list_devices() function is not available under tensorflow r1.3.\u001b[0m\u001b[0;34m\u001b[0m\u001b[0;34m\u001b[0m\u001b[0m\n",
      "\u001b[0;32m~/lsdaenv/lib/python3.5/site-packages/tensorflow/python/client/session.py\u001b[0m in \u001b[0;36mrun\u001b[0;34m(self, fetches, feed_dict, options, run_metadata)\u001b[0m\n\u001b[1;32m    903\u001b[0m     \u001b[0;32mtry\u001b[0m\u001b[0;34m:\u001b[0m\u001b[0;34m\u001b[0m\u001b[0m\n\u001b[1;32m    904\u001b[0m       result = self._run(None, fetches, feed_dict, options_ptr,\n\u001b[0;32m--> 905\u001b[0;31m                          run_metadata_ptr)\n\u001b[0m\u001b[1;32m    906\u001b[0m       \u001b[0;32mif\u001b[0m \u001b[0mrun_metadata\u001b[0m\u001b[0;34m:\u001b[0m\u001b[0;34m\u001b[0m\u001b[0m\n\u001b[1;32m    907\u001b[0m         \u001b[0mproto_data\u001b[0m \u001b[0;34m=\u001b[0m \u001b[0mtf_session\u001b[0m\u001b[0;34m.\u001b[0m\u001b[0mTF_GetBuffer\u001b[0m\u001b[0;34m(\u001b[0m\u001b[0mrun_metadata_ptr\u001b[0m\u001b[0;34m)\u001b[0m\u001b[0;34m\u001b[0m\u001b[0m\n",
      "\u001b[0;32m~/lsdaenv/lib/python3.5/site-packages/tensorflow/python/client/session.py\u001b[0m in \u001b[0;36m_run\u001b[0;34m(self, handle, fetches, feed_dict, options, run_metadata)\u001b[0m\n\u001b[1;32m   1138\u001b[0m     \u001b[0;32mif\u001b[0m \u001b[0mfinal_fetches\u001b[0m \u001b[0;32mor\u001b[0m \u001b[0mfinal_targets\u001b[0m \u001b[0;32mor\u001b[0m \u001b[0;34m(\u001b[0m\u001b[0mhandle\u001b[0m \u001b[0;32mand\u001b[0m \u001b[0mfeed_dict_tensor\u001b[0m\u001b[0;34m)\u001b[0m\u001b[0;34m:\u001b[0m\u001b[0;34m\u001b[0m\u001b[0m\n\u001b[1;32m   1139\u001b[0m       results = self._do_run(handle, final_targets, final_fetches,\n\u001b[0;32m-> 1140\u001b[0;31m                              feed_dict_tensor, options, run_metadata)\n\u001b[0m\u001b[1;32m   1141\u001b[0m     \u001b[0;32melse\u001b[0m\u001b[0;34m:\u001b[0m\u001b[0;34m\u001b[0m\u001b[0m\n\u001b[1;32m   1142\u001b[0m       \u001b[0mresults\u001b[0m \u001b[0;34m=\u001b[0m \u001b[0;34m[\u001b[0m\u001b[0;34m]\u001b[0m\u001b[0;34m\u001b[0m\u001b[0m\n",
      "\u001b[0;32m~/lsdaenv/lib/python3.5/site-packages/tensorflow/python/client/session.py\u001b[0m in \u001b[0;36m_do_run\u001b[0;34m(self, handle, target_list, fetch_list, feed_dict, options, run_metadata)\u001b[0m\n\u001b[1;32m   1319\u001b[0m     \u001b[0;32mif\u001b[0m \u001b[0mhandle\u001b[0m \u001b[0;32mis\u001b[0m \u001b[0;32mNone\u001b[0m\u001b[0;34m:\u001b[0m\u001b[0;34m\u001b[0m\u001b[0m\n\u001b[1;32m   1320\u001b[0m       return self._do_call(_run_fn, feeds, fetches, targets, options,\n\u001b[0;32m-> 1321\u001b[0;31m                            run_metadata)\n\u001b[0m\u001b[1;32m   1322\u001b[0m     \u001b[0;32melse\u001b[0m\u001b[0;34m:\u001b[0m\u001b[0;34m\u001b[0m\u001b[0m\n\u001b[1;32m   1323\u001b[0m       \u001b[0;32mreturn\u001b[0m \u001b[0mself\u001b[0m\u001b[0;34m.\u001b[0m\u001b[0m_do_call\u001b[0m\u001b[0;34m(\u001b[0m\u001b[0m_prun_fn\u001b[0m\u001b[0;34m,\u001b[0m \u001b[0mhandle\u001b[0m\u001b[0;34m,\u001b[0m \u001b[0mfeeds\u001b[0m\u001b[0;34m,\u001b[0m \u001b[0mfetches\u001b[0m\u001b[0;34m)\u001b[0m\u001b[0;34m\u001b[0m\u001b[0m\n",
      "\u001b[0;32m~/lsdaenv/lib/python3.5/site-packages/tensorflow/python/client/session.py\u001b[0m in \u001b[0;36m_do_call\u001b[0;34m(self, fn, *args)\u001b[0m\n\u001b[1;32m   1338\u001b[0m         \u001b[0;32mexcept\u001b[0m \u001b[0mKeyError\u001b[0m\u001b[0;34m:\u001b[0m\u001b[0;34m\u001b[0m\u001b[0m\n\u001b[1;32m   1339\u001b[0m           \u001b[0;32mpass\u001b[0m\u001b[0;34m\u001b[0m\u001b[0m\n\u001b[0;32m-> 1340\u001b[0;31m       \u001b[0;32mraise\u001b[0m \u001b[0mtype\u001b[0m\u001b[0;34m(\u001b[0m\u001b[0me\u001b[0m\u001b[0;34m)\u001b[0m\u001b[0;34m(\u001b[0m\u001b[0mnode_def\u001b[0m\u001b[0;34m,\u001b[0m \u001b[0mop\u001b[0m\u001b[0;34m,\u001b[0m \u001b[0mmessage\u001b[0m\u001b[0;34m)\u001b[0m\u001b[0;34m\u001b[0m\u001b[0m\n\u001b[0m\u001b[1;32m   1341\u001b[0m \u001b[0;34m\u001b[0m\u001b[0m\n\u001b[1;32m   1342\u001b[0m   \u001b[0;32mdef\u001b[0m \u001b[0m_extend_graph\u001b[0m\u001b[0;34m(\u001b[0m\u001b[0mself\u001b[0m\u001b[0;34m)\u001b[0m\u001b[0;34m:\u001b[0m\u001b[0;34m\u001b[0m\u001b[0m\n",
      "\u001b[0;31mResourceExhaustedError\u001b[0m: OOM when allocating tensor with shape[94080,4000] and type float on /job:localhost/replica:0/task:0/device:GPU:0 by allocator GPU_0_bfc\n\t [[Node: training/Adam/Variable/Assign = Assign[T=DT_FLOAT, _class=[\"loc:@training/Adam/Variable\"], use_locking=true, validate_shape=true, _device=\"/job:localhost/replica:0/task:0/device:GPU:0\"](training/Adam/Variable, training/Adam/zeros)]]\nHint: If you want to see a list of allocated tensors when OOM happens, add report_tensor_allocations_upon_oom to RunOptions for current allocation info.\n\n\nCaused by op 'training/Adam/Variable/Assign', defined at:\n  File \"/usr/lib/python3.5/runpy.py\", line 184, in _run_module_as_main\n    \"__main__\", mod_spec)\n  File \"/usr/lib/python3.5/runpy.py\", line 85, in _run_code\n    exec(code, run_globals)\n  File \"/home/1nnuser/lsdaenv/lib/python3.5/site-packages/ipykernel_launcher.py\", line 16, in <module>\n    app.launch_new_instance()\n  File \"/home/1nnuser/lsdaenv/lib/python3.5/site-packages/traitlets/config/application.py\", line 658, in launch_instance\n    app.start()\n  File \"/home/1nnuser/lsdaenv/lib/python3.5/site-packages/ipykernel/kernelapp.py\", line 486, in start\n    self.io_loop.start()\n  File \"/home/1nnuser/lsdaenv/lib/python3.5/site-packages/tornado/platform/asyncio.py\", line 127, in start\n    self.asyncio_loop.run_forever()\n  File \"/usr/lib/python3.5/asyncio/base_events.py\", line 345, in run_forever\n    self._run_once()\n  File \"/usr/lib/python3.5/asyncio/base_events.py\", line 1312, in _run_once\n    handle._run()\n  File \"/usr/lib/python3.5/asyncio/events.py\", line 125, in _run\n    self._callback(*self._args)\n  File \"/home/1nnuser/lsdaenv/lib/python3.5/site-packages/tornado/platform/asyncio.py\", line 117, in _handle_events\n    handler_func(fileobj, events)\n  File \"/home/1nnuser/lsdaenv/lib/python3.5/site-packages/tornado/stack_context.py\", line 276, in null_wrapper\n    return fn(*args, **kwargs)\n  File \"/home/1nnuser/lsdaenv/lib/python3.5/site-packages/zmq/eventloop/zmqstream.py\", line 450, in _handle_events\n    self._handle_recv()\n  File \"/home/1nnuser/lsdaenv/lib/python3.5/site-packages/zmq/eventloop/zmqstream.py\", line 480, in _handle_recv\n    self._run_callback(callback, msg)\n  File \"/home/1nnuser/lsdaenv/lib/python3.5/site-packages/zmq/eventloop/zmqstream.py\", line 432, in _run_callback\n    callback(*args, **kwargs)\n  File \"/home/1nnuser/lsdaenv/lib/python3.5/site-packages/tornado/stack_context.py\", line 276, in null_wrapper\n    return fn(*args, **kwargs)\n  File \"/home/1nnuser/lsdaenv/lib/python3.5/site-packages/ipykernel/kernelbase.py\", line 283, in dispatcher\n    return self.dispatch_shell(stream, msg)\n  File \"/home/1nnuser/lsdaenv/lib/python3.5/site-packages/ipykernel/kernelbase.py\", line 233, in dispatch_shell\n    handler(stream, idents, msg)\n  File \"/home/1nnuser/lsdaenv/lib/python3.5/site-packages/ipykernel/kernelbase.py\", line 399, in execute_request\n    user_expressions, allow_stdin)\n  File \"/home/1nnuser/lsdaenv/lib/python3.5/site-packages/ipykernel/ipkernel.py\", line 208, in do_execute\n    res = shell.run_cell(code, store_history=store_history, silent=silent)\n  File \"/home/1nnuser/lsdaenv/lib/python3.5/site-packages/ipykernel/zmqshell.py\", line 537, in run_cell\n    return super(ZMQInteractiveShell, self).run_cell(*args, **kwargs)\n  File \"/home/1nnuser/lsdaenv/lib/python3.5/site-packages/IPython/core/interactiveshell.py\", line 2662, in run_cell\n    raw_cell, store_history, silent, shell_futures)\n  File \"/home/1nnuser/lsdaenv/lib/python3.5/site-packages/IPython/core/interactiveshell.py\", line 2785, in _run_cell\n    interactivity=interactivity, compiler=compiler, result=result)\n  File \"/home/1nnuser/lsdaenv/lib/python3.5/site-packages/IPython/core/interactiveshell.py\", line 2909, in run_ast_nodes\n    if self.run_code(code, result):\n  File \"/home/1nnuser/lsdaenv/lib/python3.5/site-packages/IPython/core/interactiveshell.py\", line 2963, in run_code\n    exec(code_obj, self.user_global_ns, self.user_ns)\n  File \"<ipython-input-6-1d2b58dbeb02>\", line 20, in <module>\n    steps_per_epoch=400)\n  File \"/usr/local/lib/python3.5/dist-packages/keras/legacy/interfaces.py\", line 91, in wrapper\n    return func(*args, **kwargs)\n  File \"/usr/local/lib/python3.5/dist-packages/keras/models.py\", line 1253, in fit_generator\n    initial_epoch=initial_epoch)\n  File \"/usr/local/lib/python3.5/dist-packages/keras/legacy/interfaces.py\", line 91, in wrapper\n    return func(*args, **kwargs)\n  File \"/usr/local/lib/python3.5/dist-packages/keras/engine/training.py\", line 2088, in fit_generator\n    self._make_train_function()\n  File \"/usr/local/lib/python3.5/dist-packages/keras/engine/training.py\", line 990, in _make_train_function\n    loss=self.total_loss)\n  File \"/usr/local/lib/python3.5/dist-packages/keras/legacy/interfaces.py\", line 91, in wrapper\n    return func(*args, **kwargs)\n  File \"/usr/local/lib/python3.5/dist-packages/keras/optimizers.py\", line 452, in get_updates\n    ms = [K.zeros(K.int_shape(p), dtype=K.dtype(p)) for p in params]\n  File \"/usr/local/lib/python3.5/dist-packages/keras/optimizers.py\", line 452, in <listcomp>\n    ms = [K.zeros(K.int_shape(p), dtype=K.dtype(p)) for p in params]\n  File \"/usr/local/lib/python3.5/dist-packages/keras/backend/tensorflow_backend.py\", line 691, in zeros\n    return variable(v, dtype=dtype, name=name)\n  File \"/usr/local/lib/python3.5/dist-packages/keras/backend/tensorflow_backend.py\", line 392, in variable\n    v = tf.Variable(value, dtype=tf.as_dtype(dtype), name=name)\n  File \"/home/1nnuser/lsdaenv/lib/python3.5/site-packages/tensorflow/python/ops/variables.py\", line 235, in __init__\n    constraint=constraint)\n  File \"/home/1nnuser/lsdaenv/lib/python3.5/site-packages/tensorflow/python/ops/variables.py\", line 381, in _init_from_args\n    validate_shape=validate_shape).op\n  File \"/home/1nnuser/lsdaenv/lib/python3.5/site-packages/tensorflow/python/ops/state_ops.py\", line 281, in assign\n    validate_shape=validate_shape)\n  File \"/home/1nnuser/lsdaenv/lib/python3.5/site-packages/tensorflow/python/ops/gen_state_ops.py\", line 61, in assign\n    use_locking=use_locking, name=name)\n  File \"/home/1nnuser/lsdaenv/lib/python3.5/site-packages/tensorflow/python/framework/op_def_library.py\", line 787, in _apply_op_helper\n    op_def=op_def)\n  File \"/home/1nnuser/lsdaenv/lib/python3.5/site-packages/tensorflow/python/framework/ops.py\", line 3290, in create_op\n    op_def=op_def)\n  File \"/home/1nnuser/lsdaenv/lib/python3.5/site-packages/tensorflow/python/framework/ops.py\", line 1654, in __init__\n    self._traceback = self._graph._extract_stack()  # pylint: disable=protected-access\n\nResourceExhaustedError (see above for traceback): OOM when allocating tensor with shape[94080,4000] and type float on /job:localhost/replica:0/task:0/device:GPU:0 by allocator GPU_0_bfc\n\t [[Node: training/Adam/Variable/Assign = Assign[T=DT_FLOAT, _class=[\"loc:@training/Adam/Variable\"], use_locking=true, validate_shape=true, _device=\"/job:localhost/replica:0/task:0/device:GPU:0\"](training/Adam/Variable, training/Adam/zeros)]]\nHint: If you want to see a list of allocated tensors when OOM happens, add report_tensor_allocations_upon_oom to RunOptions for current allocation info.\n\n"
     ]
    }
   ],
   "source": [
    "\n",
    "# model = keras.models.load_model('densenet_top_1024_dropout_best.h5')\n",
    "\n",
    "optim = keras.optimizers.Adam(lr=(1e-4))\n",
    "\n",
    "# Compile the model\n",
    "model.compile(loss='categorical_crossentropy',\n",
    "            optimizer=optim,\n",
    "            metrics=['acc'])\n",
    "\n",
    "# Train model on dataset\n",
    "model.fit_generator(generator=training_generator,\n",
    "                    validation_data=validation_generator,\n",
    "                    validation_steps=len(validation_generator)/2,\n",
    "                    use_multiprocessing=True,\n",
    "                    workers=6,\n",
    "                    verbose=1,\n",
    "                    callbacks=[keras.callbacks.ModelCheckpoint('densenet_top_4000_1000_2.h5', monitor='val_acc', verbose=2, save_best_only=True, mode='auto', period=1)],\n",
    "                    epochs=3,\n",
    "                    steps_per_epoch=400)"
   ]
  },
  {
   "cell_type": "code",
   "execution_count": null,
   "metadata": {
    "collapsed": true
   },
   "outputs": [],
   "source": [
    "optim = keras.optimizers.Adam(lr=(2e-5))\n",
    "\n",
    "# Compile the model\n",
    "model.compile(loss='categorical_crossentropy',\n",
    "            optimizer=optim,\n",
    "            metrics=['acc'])\n",
    "\n",
    "# Train model on dataset\n",
    "history = model.fit_generator(generator=training_generator,\n",
    "                    validation_data=validation_generator,\n",
    "                    validation_steps=len(validation_generator)/2,\n",
    "                    use_multiprocessing=True,\n",
    "                    workers=6,\n",
    "                    verbose=1,\n",
    "                    callbacks=[keras.callbacks.ModelCheckpoint('densenet_top_4000_1000_4.h5', monitor='val_acc', verbose=2, save_best_only=True, mode='auto', period=1)],\n",
    "                    epochs=3,\n",
    "                    steps_per_epoch=400)"
   ]
  },
  {
   "cell_type": "code",
   "execution_count": null,
   "metadata": {
    "collapsed": true
   },
   "outputs": [],
   "source": [
    "model = keras.models.load_model('./densenet_top_4000_1000_2.h5')\n",
    "print(\"MODEL LOADED\")"
   ]
  },
  {
   "cell_type": "code",
   "execution_count": null,
   "metadata": {
    "collapsed": true
   },
   "outputs": [],
   "source": [
    "model.load_weights('./densenet_top_4000_1000_2.h5')"
   ]
  },
  {
   "cell_type": "code",
   "execution_count": null,
   "metadata": {
    "collapsed": true
   },
   "outputs": [],
   "source": [
    "optim = keras.optimizers.Adam(lr=(1e-5))\n",
    "\n",
    "# Compile the model\n",
    "model.compile(loss='categorical_crossentropy',\n",
    "            optimizer=optim)\n",
    "print(\"MODEL COMPILED\")\n",
    "\n",
    "# Train model on dataset\n",
    "model.fit_generator(generator=training_generator,\n",
    "                    validation_data=validation_generator,\n",
    "                    validation_steps=len(validation_generator)/2,\n",
    "                    use_multiprocessing=True,\n",
    "                    workers=6,\n",
    "                    verbose=1,\n",
    "                    callbacks=[keras.callbacks.ModelCheckpoint('densenet_top_4000_1000_1-1.h5', monitor='val_acc', verbose=2, save_best_only=True, mode='auto', period=1)],\n",
    "                    epochs=3,\n",
    "                    steps_per_epoch=100)"
   ]
  },
  {
   "cell_type": "code",
   "execution_count": null,
   "metadata": {
    "collapsed": true
   },
   "outputs": [],
   "source": [
    "optim = keras.optimizers.Adam(lr=(2e-6))\n",
    "\n",
    "# Compile the model\n",
    "model.compile(loss='categorical_crossentropy',\n",
    "            optimizer=optim,\n",
    "            metrics=['acc'])\n",
    "\n",
    "# Train model on dataset\n",
    "model.fit_generator(generator=training_generator,\n",
    "                    validation_data=validation_generator,\n",
    "                    validation_steps=len(validation_generator)/2,\n",
    "                    use_multiprocessing=True,\n",
    "                    workers=6,\n",
    "                    verbose=1,\n",
    "                    callbacks=[keras.callbacks.ModelCheckpoint('densenet_top_4000_1000_5.h5', monitor='val_acc', verbose=2, save_best_only=True, mode='auto', period=1)],\n",
    "                    epochs=3,\n",
    "                    steps_per_epoch=400)"
   ]
  },
  {
   "cell_type": "markdown",
   "metadata": {},
   "source": [
    "# Validation accuracy"
   ]
  },
  {
   "cell_type": "code",
   "execution_count": null,
   "metadata": {
    "collapsed": true
   },
   "outputs": [],
   "source": [
    "X_val, y_val = load_data('valid')"
   ]
  },
  {
   "cell_type": "code",
   "execution_count": null,
   "metadata": {
    "collapsed": true
   },
   "outputs": [],
   "source": [
    "y_pred = classification_model.predict(X_val)"
   ]
  },
  {
   "cell_type": "code",
   "execution_count": null,
   "metadata": {
    "collapsed": true
   },
   "outputs": [],
   "source": [
    "np.sum(np.argmax(y_pred, axis=1) + 1 == y_val) / len(y_val)"
   ]
  },
  {
   "cell_type": "markdown",
   "metadata": {},
   "source": [
    "# ENSEMBLE"
   ]
  },
  {
   "cell_type": "code",
   "execution_count": null,
   "metadata": {
    "collapsed": true
   },
   "outputs": [],
   "source": [
    "from keras.preprocessing.image import ImageDataGenerator\n",
    "\n",
    "from keras.applications.densenet import DenseNet201 as densenet\n",
    "from keras.applications.densenet import preprocess_input as densenet_pp\n",
    "\n",
    "from keras.applications.resnet50 import ResNet50 as resnet\n",
    "from keras.applications.resnet50 import preprocess_input as resnet_pp\n",
    "\n",
    "DENSENET_IMG_SIZE = 224\n",
    "RESNET_IMG_SIZE = 244"
   ]
  },
  {
   "cell_type": "code",
   "execution_count": null,
   "metadata": {
    "collapsed": true
   },
   "outputs": [],
   "source": [
    "ext_datagen = ImageDataGenerator(\n",
    "    rotation_range=10,\n",
    "    width_shift_range=0.1,\n",
    "    height_shift_range=0.1,\n",
    "    horizontal_flip=True,\n",
    ")\n",
    "\n",
    "ext_gen_flow = ext_datagen.flow_from_directory(\n",
    "        '/home/1nnuser/data/test',\n",
    "        target_size=(DENSENET_IMG_SIZE, DENSENET_IMG_SIZE),\n",
    "        batch_size=32,\n",
    "        class_mode=None\n",
    "    )"
   ]
  },
  {
   "cell_type": "code",
   "execution_count": null,
   "metadata": {
    "collapsed": true
   },
   "outputs": [],
   "source": [
    "from keras.preprocessing import image\n",
    "import glob\n",
    "\n",
    "def load_test_images(directory='/home/1nnuser/data/test/images', img_size=224):\n",
    "    files = glob.glob(directory + '/*')\n",
    "    return files, np.array([image.img_to_array(image.load_img(file, target_size=(img_size, img_size))) for file in files])"
   ]
  },
  {
   "cell_type": "code",
   "execution_count": null,
   "metadata": {
    "collapsed": true
   },
   "outputs": [],
   "source": [
    "# Build a model by adding preprocessing before the pretrained CNN\n",
    "def get_feature_extraction_model(model_name):\n",
    "    if(model_name == 'densenet'):\n",
    "        cnn_object, pp_function, img_size = densenet, densenet_pp, DENSENET_IMG_SIZE\n",
    "\n",
    "    if(model_name == 'resnet'):\n",
    "        cnn_object, pp_function, img_size = resnet, resnet_pp, RESNET_IMG_SIZE\n",
    "\n",
    "    model = keras.models.Sequential()\n",
    "    cnn_model = cnn_object(weights='imagenet', include_top=False)\n",
    "    model.add(keras.layers.Lambda(pp_function, name='preprocessing', input_shape=(img_size, img_size, 3)))\n",
    "    model.add(cnn_model)\n",
    "    return model"
   ]
  },
  {
   "cell_type": "code",
   "execution_count": null,
   "metadata": {
    "collapsed": true
   },
   "outputs": [],
   "source": [
    "test_files, test_images_resnet = load_test_images(directory='/home/1nnuser/data/test/output/images', img_size = RESNET_IMG_SIZE)"
   ]
  },
  {
   "cell_type": "code",
   "execution_count": null,
   "metadata": {
    "collapsed": true
   },
   "outputs": [],
   "source": [
    "test_files, test_images_desenet = load_test_images(directory='/home/1nnuser/data/test/output/images', img_size = DENSENET_IMG_SIZE)"
   ]
  },
  {
   "cell_type": "code",
   "execution_count": null,
   "metadata": {
    "collapsed": true
   },
   "outputs": [],
   "source": [
    "extraction_model = get_feature_extraction_model('resnet')"
   ]
  },
  {
   "cell_type": "code",
   "execution_count": null,
   "metadata": {
    "collapsed": true
   },
   "outputs": [],
   "source": [
    "X = extraction_model.predict(test_images_resnet)\n",
    "np.save('/home/1nnuser/data/resnet/test_features_aug', X)\n",
    "np.save('/home/1nnuser/data/resnet/test_files_aug', test_files)"
   ]
  },
  {
   "cell_type": "code",
   "execution_count": null,
   "metadata": {
    "collapsed": true
   },
   "outputs": [],
   "source": [
    "extraction_model = get_feature_extraction_model('densenet')"
   ]
  },
  {
   "cell_type": "code",
   "execution_count": null,
   "metadata": {
    "collapsed": true
   },
   "outputs": [],
   "source": [
    "# X = extraction_model.predict_generator(ext_gen_flow, verbose=1, use_multiprocessing=True, workers=6)\n",
    "X = extraction_model.predict(test_images_desenet)\n",
    "np.save('/home/1nnuser/data/densenet/test_features_aug', X)\n",
    "np.save('/home/1nnuser/data/densenet/test_files_aug', test_files)"
   ]
  },
  {
   "cell_type": "code",
   "execution_count": null,
   "metadata": {
    "collapsed": true
   },
   "outputs": [],
   "source": [
    "# def generate_data(directory, test_ids, batch_size):\n",
    "#     i = 0\n",
    "#     image_batch = []\n",
    "#     for id_ in test_ids:\n",
    "#         image = np.load(directory+str(id_)+'.npy')\n",
    "#         image_batch.append(image)\n",
    "#         if len(image_batch) >= batch_size:\n",
    "#             yield np.array(image_batch)\n",
    "#             image_batch = []\n",
    "#     yield np.array(image_batch)\n",
    "        \n",
    "# def get_test_data(directory='../data_test_0/'):\n",
    "#     files = glob.glob(directory+'*')\n",
    "#     features = []\n",
    "#     names = []\n",
    "#     for i, file in enumerate(files):\n",
    "#         print(i, end='\\r')\n",
    "#         features.append(np.load(file))\n",
    "#         names.append(file)\n",
    "#     return names, np.array(features)"
   ]
  },
  {
   "cell_type": "code",
   "execution_count": null,
   "metadata": {
    "collapsed": true
   },
   "outputs": [],
   "source": [
    "# names, features = get_test_data()"
   ]
  },
  {
   "cell_type": "code",
   "execution_count": null,
   "metadata": {
    "collapsed": true
   },
   "outputs": [],
   "source": [
    "# from subprocess import call\n",
    "\n",
    "# def file_exists(fname):\n",
    "#     return os.path.isfile(fname) \n",
    "\n",
    "# def _get_id_from_path(path):\n",
    "#     return int(path.split('/')[-1].split('.')[0])\n",
    "\n",
    "# aug_i = 0\n",
    "\n",
    "# # call(['mkdir', '-p', '../data_test_'+str(aug_i)+'/'])\n",
    "\n",
    "# print(\"Saving files.\")\n",
    "# for i, file in enumerate(test_files):\n",
    "#     print(i+1, end='\\r')\n",
    "#     path_to_save = '../data_test_'+str(aug_i)+'/' + str(_get_id_from_path(file))\n",
    "#     np.save(path_to_save, X[i])\n",
    "\n",
    "# ids = [str(_get_id_from_path(file)) for file in test_files]\n",
    "# np.save('../data/meta/test_ids', ids)"
   ]
  },
  {
   "cell_type": "code",
   "execution_count": null,
   "metadata": {
    "collapsed": true
   },
   "outputs": [],
   "source": [
    "# test_features = np.load('/home/1nnuser/data/densenet/test_features_aug.npy')\n",
    "test_files_aug = np.load('/home/1nnuser/data/densenet/test_files_aug.npy')\n",
    "test_features.shape, test_files.shape"
   ]
  },
  {
   "cell_type": "code",
   "execution_count": null,
   "metadata": {
    "collapsed": true
   },
   "outputs": [],
   "source": [
    "def get_id_from_aug_path(file_path):\n",
    "    return file_path.replace('/home/1nnuser/data/test/output/images/images_original_', '').split('.jpg_')[0]"
   ]
  },
  {
   "cell_type": "code",
   "execution_count": null,
   "metadata": {
    "collapsed": true
   },
   "outputs": [],
   "source": [
    "test_files_aug_int = np.array([int(get_id_from_aug_path(path)) for path in test_files_aug])\n",
    "test_files_indices_sorted_aug = np.argsort(test_files_aug_int)"
   ]
  },
  {
   "cell_type": "code",
   "execution_count": null,
   "metadata": {
    "collapsed": true
   },
   "outputs": [],
   "source": [
    "test_files_aug_int[test_files_indices_sorted_aug]"
   ]
  },
  {
   "cell_type": "code",
   "execution_count": null,
   "metadata": {
    "collapsed": true
   },
   "outputs": [],
   "source": [
    "test_files_reg = np.load('/home/1nnuser/data/densenet/test_files.npy')"
   ]
  },
  {
   "cell_type": "code",
   "execution_count": null,
   "metadata": {
    "collapsed": true
   },
   "outputs": [],
   "source": [
    "test_files_reg_int = np.array([int(get_id_from_path(path)) for path in test_files_reg])\n",
    "test_files_indices_sorted_reg = np.argsort(test_files_reg_int)"
   ]
  },
  {
   "cell_type": "code",
   "execution_count": null,
   "metadata": {
    "collapsed": true
   },
   "outputs": [],
   "source": [
    "test_files_reg_int[test_files_indices_sorted_reg]"
   ]
  },
  {
   "cell_type": "code",
   "execution_count": null,
   "metadata": {
    "collapsed": true
   },
   "outputs": [],
   "source": [
    "# test_features = np.load('/home/1nnuser/data/resnet/test_features_aug.npy')\n",
    "test_files_r = np.load('/home/1nnuser/data/resnet/test_files_aug.npy')\n",
    "test_features.shape, test_files.shape"
   ]
  },
  {
   "cell_type": "code",
   "execution_count": null,
   "metadata": {
    "collapsed": true
   },
   "outputs": [],
   "source": [
    "test_files_r"
   ]
  },
  {
   "cell_type": "code",
   "execution_count": null,
   "metadata": {
    "collapsed": true
   },
   "outputs": [],
   "source": [
    "classification_model = keras.models.load_model('final/ResNetTop_ValAcc7941.h5')"
   ]
  },
  {
   "cell_type": "code",
   "execution_count": null,
   "metadata": {
    "collapsed": true
   },
   "outputs": [],
   "source": [
    "classification_model = keras.models.load_model('final/densenet_top_4000_1000_5.h5')"
   ]
  },
  {
   "cell_type": "code",
   "execution_count": null,
   "metadata": {
    "collapsed": true
   },
   "outputs": [],
   "source": [
    "y_pred_proba = classification_model.predict(test_features, verbose=1)"
   ]
  },
  {
   "cell_type": "code",
   "execution_count": null,
   "metadata": {
    "collapsed": true
   },
   "outputs": [],
   "source": [
    "np.save('y_pred_proba_resnet_aug', y_pred_proba)"
   ]
  },
  {
   "cell_type": "code",
   "execution_count": null,
   "metadata": {
    "collapsed": true
   },
   "outputs": [],
   "source": [
    "np.save('y_pred_proba_densenet_aug', y_pred_proba)"
   ]
  },
  {
   "cell_type": "code",
   "execution_count": null,
   "metadata": {
    "collapsed": true
   },
   "outputs": [],
   "source": [
    "y_pred_proba.shape"
   ]
  },
  {
   "cell_type": "code",
   "execution_count": null,
   "metadata": {
    "collapsed": true
   },
   "outputs": [],
   "source": [
    "y_proba_resnet = np.load('y_pred_proba_resnet.npy')\n",
    "y_proba_resnet_aug = np.load('y_pred_proba_resnet_aug.npy')\n",
    "y_proba_densenet = np.load('y_pred_proba_densenet.npy')\n",
    "y_proba_densenet_aug = np.load('y_pred_proba_densenet_aug.npy')"
   ]
  },
  {
   "cell_type": "code",
   "execution_count": null,
   "metadata": {
    "collapsed": true
   },
   "outputs": [],
   "source": [
    "y_proba_resnet = y_proba_resnet[test_files_indices_sorted_reg]\n",
    "y_proba_densenet = y_proba_densenet[test_files_indices_sorted_reg]\n",
    "y_proba_resnet_aug = y_proba_resnet_aug[test_files_indices_sorted_aug]\n",
    "y_proba_densenet_aug = y_proba_densenet_aug[test_files_indices_sorted_aug]"
   ]
  },
  {
   "cell_type": "code",
   "execution_count": null,
   "metadata": {
    "collapsed": true
   },
   "outputs": [],
   "source": [
    "y_proba_ensemble = y_proba_resnet + y_proba_densenet\n",
    "y_proba_ensemble.shape"
   ]
  },
  {
   "cell_type": "code",
   "execution_count": null,
   "metadata": {
    "collapsed": true
   },
   "outputs": [],
   "source": [
    "y_proba_ensemble = 0.8 * y_proba_resnet + 0.6 * y_proba_densenet + 0.2 * y_proba_densenet_aug\n",
    "y_proba_ensemble.shape"
   ]
  },
  {
   "cell_type": "code",
   "execution_count": null,
   "metadata": {
    "collapsed": true
   },
   "outputs": [],
   "source": [
    "y_pred = np.argmax(y_proba_ensemble, axis=1)+1\n",
    "y_pred.shape, np.unique(y_pred)"
   ]
  },
  {
   "cell_type": "code",
   "execution_count": null,
   "metadata": {
    "collapsed": true
   },
   "outputs": [],
   "source": [
    "test_ids = [get_id_from_path(name) for name in test_files_reg[test_files_indices_sorted_reg]]\n",
    "new_predictions = {}\n",
    "for i, y_ in enumerate(y_pred):\n",
    "    new_predictions[int(test_ids[i])] = y_"
   ]
  },
  {
   "cell_type": "code",
   "execution_count": null,
   "metadata": {
    "collapsed": true
   },
   "outputs": [],
   "source": [
    "len(list(new_predictions.keys()))"
   ]
  },
  {
   "cell_type": "code",
   "execution_count": null,
   "metadata": {
    "collapsed": true
   },
   "outputs": [],
   "source": [
    "from collections import Counter\n",
    "counted = Counter(y_pred)\n",
    "most_common_class = counted.most_common()[-1][0]\n",
    "print(most_common_class)\n",
    "\n",
    "replaced_counter = 0\n",
    "for index in range(1, 12801):\n",
    "    if(index not in new_predictions.keys()):\n",
    "        new_predictions[index] = most_common_class\n",
    "        replaced_counter+=1\n",
    "        \n",
    "print(replaced_counter)"
   ]
  },
  {
   "cell_type": "code",
   "execution_count": null,
   "metadata": {
    "collapsed": true
   },
   "outputs": [],
   "source": [
    "import csv\n",
    "with open('submission_ensemble_aug_weighted.csv', 'r') as fp:\n",
    "    reader = csv.reader(fp, delimiter=',', quotechar='\"')\n",
    "    # next(reader, None)  # skip the headers\n",
    "    data_read = [row for row in reader]\n",
    "    \n",
    "data_read = np.array(data_read)\n",
    "ids = data_read[1:,0]\n",
    "predictions = data_read[1:,1]\n",
    "ids = [int(id_.replace(' ', '')) for id_ in ids]\n",
    "predictions = [int(prediction.replace(' ', '')) for prediction in predictions]\n",
    "prev_predictions = {id_: prediction for id_, prediction in zip(ids, predictions)}\n",
    "\n",
    "len(ids), len(predictions)"
   ]
  },
  {
   "cell_type": "code",
   "execution_count": null,
   "metadata": {
    "collapsed": true
   },
   "outputs": [],
   "source": [
    "np.sum([new_predictions[i] == prev_predictions[i] for i in range(1, len(prev_predictions.keys()))])"
   ]
  },
  {
   "cell_type": "code",
   "execution_count": null,
   "metadata": {
    "collapsed": true
   },
   "outputs": [],
   "source": [
    "new_predictions[3]"
   ]
  },
  {
   "cell_type": "code",
   "execution_count": null,
   "metadata": {
    "collapsed": true
   },
   "outputs": [],
   "source": [
    "ids = []\n",
    "values = []\n",
    "for key, value in new_predictions.items():\n",
    "    ids.append(key)\n",
    "    values.append(value)\n",
    "    \n",
    "out_dict = {}\n",
    "out_dict['id'] = ids\n",
    "out_dict['predicted'] = values\n",
    "\n",
    "keys = sorted(out_dict.keys())\n",
    "COL_WIDTH = 6\n",
    "FMT = \"%%-%ds\" % COL_WIDTH\n",
    "\n",
    "with open('submission_ensemble_aug_weighted2.csv', 'w') as csv:\n",
    "    # Write keys    \n",
    "    csv.write(','.join([k for k in keys]) + '\\n')\n",
    "\n",
    "    # Assume all values of dict are equal\n",
    "    for i in range(len(out_dict[keys[0]])):\n",
    "        csv.write(','.join([FMT % out_dict[k][i] for k in keys]) + '\\n')"
   ]
  },
  {
   "cell_type": "code",
   "execution_count": null,
   "metadata": {
    "collapsed": true
   },
   "outputs": [],
   "source": []
  },
  {
   "cell_type": "code",
   "execution_count": null,
   "metadata": {
    "collapsed": true
   },
   "outputs": [],
   "source": []
  },
  {
   "cell_type": "code",
   "execution_count": null,
   "metadata": {
    "collapsed": true
   },
   "outputs": [],
   "source": []
  },
  {
   "cell_type": "code",
   "execution_count": null,
   "metadata": {
    "collapsed": true
   },
   "outputs": [],
   "source": []
  },
  {
   "cell_type": "code",
   "execution_count": null,
   "metadata": {
    "collapsed": true
   },
   "outputs": [],
   "source": []
  },
  {
   "cell_type": "code",
   "execution_count": null,
   "metadata": {
    "collapsed": true
   },
   "outputs": [],
   "source": []
  },
  {
   "cell_type": "markdown",
   "metadata": {},
   "source": [
    "# OLD PART OF THE NOTEBOOK"
   ]
  },
  {
   "cell_type": "code",
   "execution_count": null,
   "metadata": {
    "collapsed": true
   },
   "outputs": [],
   "source": [
    "weights = np.ones_like(y) / (len(y))\n",
    "_ = plt.hist(y, weights=weights, bins=np.max(y), alpha=0.7)\n",
    "weights = np.ones_like(y_val) / (len(y_val))\n",
    "_ = plt.hist(y_val, weights=weights, bins=np.max(y_val), alpha=0.5)\n",
    "\n",
    "from collections import Counter\n",
    "counted = Counter(y)\n",
    "most_common_class = counted.most_common()[0][0]\n",
    "        \n",
    "print(counted[34])"
   ]
  },
  {
   "cell_type": "code",
   "execution_count": null,
   "metadata": {
    "collapsed": true
   },
   "outputs": [],
   "source": [
    "X = np.concatenate((X, X_val), axis=0)\n",
    "y = np.concatenate((y, y_val), axis=0)"
   ]
  },
  {
   "cell_type": "code",
   "execution_count": null,
   "metadata": {
    "collapsed": true
   },
   "outputs": [],
   "source": [
    "X_train, X_val, y_train, y_val = train_test_split(X, y, stratify = y, test_size = 0.05)"
   ]
  },
  {
   "cell_type": "code",
   "execution_count": null,
   "metadata": {
    "collapsed": true
   },
   "outputs": [],
   "source": [
    "from sklearn.utils import class_weight\n",
    "class_weight = class_weight.compute_class_weight('balanced',\n",
    "                                             np.unique(y),\n",
    "                                             y)"
   ]
  },
  {
   "cell_type": "code",
   "execution_count": null,
   "metadata": {
    "collapsed": true
   },
   "outputs": [],
   "source": [
    "from sklearn.ensemble import RandomForestClassifier\n",
    "clf = RandomForestClassifier(random_state=0)\n",
    "clf.fit(X, y)\n",
    "clf.score(X_val, y_val)"
   ]
  },
  {
   "cell_type": "code",
   "execution_count": null,
   "metadata": {
    "collapsed": true,
    "scrolled": true
   },
   "outputs": [],
   "source": [
    "mlp = MLPClassifier(hidden_layer_sizes=(1024,), max_iter=200, alpha=0.25,\n",
    "                    solver='sgd', verbose=10, tol=1e-4, random_state=1,\n",
    "                    learning_rate='adaptive', learning_rate_init=.1, )\n",
    "mlp.fit(X, y)"
   ]
  },
  {
   "cell_type": "code",
   "execution_count": null,
   "metadata": {
    "collapsed": true
   },
   "outputs": [],
   "source": [
    "mlp.score(X_val, y_val)"
   ]
  },
  {
   "cell_type": "code",
   "execution_count": null,
   "metadata": {
    "collapsed": true
   },
   "outputs": [],
   "source": [
    "import keras\n",
    "from keras import layers, optimizers, models\n",
    "from keras.utils.np_utils import to_categorical\n",
    "num_classes = 128\n",
    "\n",
    "model = keras.models.Sequential()\n",
    "model.add(layers.Dense(1024, activation='relu', name='hidden_1024', input_shape=(2048,)))\n",
    "model.add(layers.Dropout(0.5, name='hidden_1024_dropout'))\n",
    "model.add(layers.Dense(num_classes, activation='softmax', name='classification'))\n",
    "print(model.layers[-3].get_weights())\n",
    "model.load_weights('classification2_checkpoint.h5', by_name=True)\n",
    "print(model.layers[-3].get_weights())\n",
    "\n",
    "optim = keras.optimizers.Adam(lr=(1e-3))\n",
    "# optim = keras.optimizers.RMSprop(lr=0.001)\n",
    "# optim = keras.optimizers.SGD(lr=1e-4, momentum=0.9, nesterov=True)\n",
    "\n",
    "# Compile the model\n",
    "model.compile(loss='categorical_crossentropy',\n",
    "            optimizer=optim,\n",
    "            metrics=['acc'])"
   ]
  },
  {
   "cell_type": "code",
   "execution_count": null,
   "metadata": {
    "collapsed": true
   },
   "outputs": [],
   "source": [
    "y_preds = np.argmax(model.predict(X_val), axis=1) + 1\n",
    "np.sum(y_preds == y_val) / len(y_val)"
   ]
  },
  {
   "cell_type": "code",
   "execution_count": null,
   "metadata": {
    "collapsed": true
   },
   "outputs": [],
   "source": [
    "model.layers[-3].get_weights()"
   ]
  },
  {
   "cell_type": "code",
   "execution_count": null,
   "metadata": {
    "collapsed": true
   },
   "outputs": [],
   "source": [
    "y_cat = to_categorical(y-1, num_classes)\n",
    "y_val_cat = to_categorical(y_val-1, num_classes)"
   ]
  },
  {
   "cell_type": "code",
   "execution_count": null,
   "metadata": {
    "collapsed": true
   },
   "outputs": [],
   "source": [
    "model.fit(X, y_cat, batch_size = 200, validation_data=(X_val, y_val_cat), epochs=10,\n",
    "         callbacks=[keras.callbacks.ModelCheckpoint('classification2_checkpoint.h5', monitor='val_acc', verbose=2, save_best_only=True, mode='auto', period=1)])"
   ]
  },
  {
   "cell_type": "code",
   "execution_count": null,
   "metadata": {
    "collapsed": true
   },
   "outputs": [],
   "source": [
    "# from keras.applications.densenet import DenseNet201, DenseNet121\n",
    "from keras.preprocessing.image import ImageDataGenerator\n",
    "from keras.models import Model\n",
    "from keras.layers import Dense\n",
    "from keras import layers, optimizers, models\n",
    "import keras\n",
    "from keras import backend as K\n",
    "# from keras.applications.densenet import preprocess_input\n",
    "import time\n",
    "\n",
    "from keras.applications.resnet50 import ResNet50\n",
    "from keras.applications.resnet50 import preprocess_input\n",
    "import matplotlib.pyplot as plt\n",
    "\n",
    "from keras.models import load_model\n",
    "from keras.applications import imagenet_utils\n",
    "from keras.applications.imagenet_utils import _preprocess_symbolic_input\n",
    "from keras.preprocessing import image"
   ]
  },
  {
   "cell_type": "code",
   "execution_count": null,
   "metadata": {
    "collapsed": true
   },
   "outputs": [],
   "source": [
    "target_size = (224,224)\n",
    "# validation_dir = './data/valid'\n",
    "# train_dir = './data/train'\n",
    "validation_dir = '/furniture-data/valid'\n",
    "train_dir = '/furniture-data/train'\n",
    "\n",
    "train_datagen = ImageDataGenerator(\n",
    "        rotation_range=10,\n",
    "        width_shift_range=0.1,\n",
    "        height_shift_range=0.1,\n",
    "        horizontal_flip=True,\n",
    "        preprocessing_function=preprocess_input\n",
    "      )\n",
    " \n",
    "validation_datagen = ImageDataGenerator(preprocessing_function=preprocess_input)\n",
    " \n",
    "# Change the batchsize according to your system RAM\n",
    "train_batchsize = 32\n",
    "val_batchsize = 10\n",
    " \n",
    "train_generator = train_datagen.flow_from_directory(\n",
    "        train_dir,\n",
    "        target_size=target_size,\n",
    "        batch_size=train_batchsize,\n",
    "        class_mode='categorical')\n",
    " \n",
    "validation_generator = validation_datagen.flow_from_directory(\n",
    "        validation_dir,\n",
    "        target_size=target_size,\n",
    "        batch_size=val_batchsize,\n",
    "        class_mode='categorical',\n",
    "        shuffle=False)"
   ]
  },
  {
   "cell_type": "code",
   "execution_count": null,
   "metadata": {
    "collapsed": true
   },
   "outputs": [],
   "source": [
    "cnn = ResNet50(weights='imagenet', include_top=False)\n",
    "\n",
    "for layer in cnn.layers:\n",
    "    layer.trainable = False"
   ]
  },
  {
   "cell_type": "code",
   "execution_count": null,
   "metadata": {
    "collapsed": true
   },
   "outputs": [],
   "source": [
    "# create the base pre-trained model\n",
    "model = keras.models.Sequential()\n",
    "# model.add(keras.layers.Lambda(preprocess_input, name='preprocessing', input_shape=(224, 224, 3)))\n",
    "model.add(keras.layers.InputLayer(input_shape=(224,224,3)))\n",
    "model.add(cnn)\n",
    "model.add(keras.layers.Reshape(target_shape=(2048,)))"
   ]
  },
  {
   "cell_type": "code",
   "execution_count": null,
   "metadata": {
    "collapsed": true
   },
   "outputs": [],
   "source": [
    "model.summary()\n",
    "import h5py\n",
    "features = []\n",
    "labels = []\n",
    "batches = 0\n",
    "for x, y in train_generator:\n",
    "    print(batches, end='\\r')\n",
    "    features.append(model.predict(x))\n",
    "    labels.append(np.argmax(y, axis=1)+1)\n",
    "    batches += 1\n",
    "    if batches >= 1000:\n",
    "        h5f = h5py.File('data.h5', 'w')\n",
    "        h5f.create_dataset('features', data=features)\n",
    "        h5f.create_dataset('labels', data=labels)\n",
    "        h5f.close()\n",
    "    "
   ]
  },
  {
   "cell_type": "code",
   "execution_count": null,
   "metadata": {
    "collapsed": true
   },
   "outputs": [],
   "source": [
    "h5f = h5py.File('data.h5','r')\n",
    "features = h5f['features'][:]\n",
    "labels = h5f['labels'][:]\n",
    "h5f.close()"
   ]
  },
  {
   "cell_type": "code",
   "execution_count": null,
   "metadata": {
    "collapsed": true
   },
   "outputs": [],
   "source": [
    "import keras\n",
    "from keras import layers, optimizers, models\n",
    "from keras.utils.np_utils import to_categorical\n",
    "num_classes = 128\n",
    "\n",
    "model = keras.models.Sequential()\n",
    "model.add(layers.Dense(1024, activation='relu', name='hidden_1024', input_shape=(2048,)))\n",
    "model.add(layers.Dropout(0.5, name='hidden_1024_dropout'))\n",
    "model.add(layers.Dense(num_classes, activation='softmax', name='classification'))\n",
    "# print(model.layers[-3].get_weights())\n",
    "# model.load_weights('classification2_checkpoint.h5', by_name=True)\n",
    "# print(model.layers[-3].get_weights())\n",
    "\n",
    "optim = keras.optimizers.Adam(lr=(1e-3))\n",
    "# optim = keras.optimizers.RMSprop(lr=0.001)\n",
    "# optim = keras.optimizers.SGD(lr=1e-4, momentum=0.9, nesterov=True)\n",
    "\n",
    "# Compile the model\n",
    "model.compile(loss='categorical_crossentropy',\n",
    "            optimizer=optim,\n",
    "            metrics=['acc'])"
   ]
  },
  {
   "cell_type": "code",
   "execution_count": null,
   "metadata": {
    "collapsed": true
   },
   "outputs": [],
   "source": [
    "for e in range(1,30):\n",
    "    for x_batch, y_batch in zip(features,labels):\n",
    "        model.fit(x_batch, y_batch)\n",
    "#             samples = 0\n",
    "#             for x_batch, y_batch in val_datagen:\n",
    "#                 y_pred = np.argmax(model.predict(X_val), axis=1) + 1\n",
    "#                 correct = np.sum(y_pred == y_batch)\n",
    "#                 samples += x_batch.shape[0]\n",
    "#             print(\"val acc: \", correct / samples)\n",
    "#             break\n",
    "model.save_weights('test.h5')"
   ]
  },
  {
   "cell_type": "code",
   "execution_count": null,
   "metadata": {
    "collapsed": true
   },
   "outputs": [],
   "source": [
    "model_classification = keras.models.load_model('./ValAcc79410.h5')\n",
    "model_classification.summary()"
   ]
  },
  {
   "cell_type": "code",
   "execution_count": null,
   "metadata": {
    "collapsed": true
   },
   "outputs": [],
   "source": [
    "# create the base pre-trained model\n",
    "model = keras.models.Sequential()\n",
    "# model.add(keras.layers.Lambda(preprocess_input, name='preprocessing', input_shape=(224, 224, 3)))\n",
    "model.add(keras.layers.InputLayer(input_shape=(224,224,3)))\n",
    "model.add(cnn)\n",
    "# model.add(keras.layers.Reshape(target_shape=(2048,)))\n",
    "model.add(keras.layers.Flatten(name='flat'))\n",
    "model.add(layers.Dense(1024, activation='relu', name='hidden_1024', input_shape=(2048,)))\n",
    "model.add(layers.Dropout(0.5, name='hidden_1024_dropout'))\n",
    "model.add(layers.Dense(128, activation='softmax', name='classification'))\n",
    "# print(model.layers[-3].get_weights())\n",
    "# print(model.layers[-3].get_weights())\n",
    "# model.add(model_classification)"
   ]
  },
  {
   "cell_type": "code",
   "execution_count": null,
   "metadata": {
    "collapsed": true
   },
   "outputs": [],
   "source": [
    "model.layers"
   ]
  },
  {
   "cell_type": "code",
   "execution_count": null,
   "metadata": {
    "collapsed": true
   },
   "outputs": [],
   "source": [
    "for layer in model.layers[1].layers[-11:]:\n",
    "    layer.trainable = True\n",
    "    print(layer.name, layer.trainable)\n",
    "model.load_weights('./learnopencv9_ft_11_norot_checkpoint.h5', by_name=True)\n"
   ]
  },
  {
   "cell_type": "code",
   "execution_count": null,
   "metadata": {
    "collapsed": true
   },
   "outputs": [],
   "source": [
    "for layer in model.layers[1].layers[-35:]:\n",
    "    layer.trainable = True\n",
    "    print(layer.name, layer.trainable)\n"
   ]
  },
  {
   "cell_type": "code",
   "execution_count": null,
   "metadata": {
    "collapsed": true
   },
   "outputs": [],
   "source": [
    "# print(model.layers[-3].get_weights())\n",
    "classification_model = keras.models.load_model('./ValAcc79410.h5')\n",
    "# model.layers[-3].get_weights()"
   ]
  },
  {
   "cell_type": "code",
   "execution_count": null,
   "metadata": {
    "collapsed": true
   },
   "outputs": [],
   "source": [
    "classification_model.summary()"
   ]
  },
  {
   "cell_type": "code",
   "execution_count": null,
   "metadata": {
    "collapsed": true
   },
   "outputs": [],
   "source": [
    "cnn = ResNet50(weights='imagenet', include_top=False)"
   ]
  },
  {
   "cell_type": "code",
   "execution_count": null,
   "metadata": {
    "collapsed": true
   },
   "outputs": [],
   "source": [
    "# for layer in cnn.layers:\n",
    "#     layer.trainable = False\n",
    "\n",
    "# define new model\n",
    "model = keras.models.Sequential()\n",
    "model.add(keras.layers.InputLayer(input_shape=(224,224,3)))\n",
    "# model.add(keras.layers.Lambda(preprocess_input, name='preprocessing', input_shape=(224, 224, 3)))\n",
    "\n",
    "# append all VGG16 layers\n",
    "# for layer in cnn.layers: \n",
    "#     model.add(layer)\n",
    "    \n",
    "model.add(cnn)\n",
    "\n",
    "# append the new top model\n",
    "for layer in classification_model.layers:\n",
    "    model.add(layer)\n",
    "    \n",
    "# we do not want to retrain the whole new network (very time-consuming!). \n",
    "# Instead, we will only fine-tune the last layers ...\n",
    "# for i in range(0, len(model.layers)):\n",
    "#     if i < 15:\n",
    "#         print(\"%i: Setting layer %s to non-trainable\" % (i, str(model.layers[i])))\n",
    "#         model.layers[i].trainable=False\n",
    "#     else:\n",
    "#         print(\"%i: Keeping layer %s trainable\" % (i, str(model.layers[i])))                    \n",
    "# print(model.summary())"
   ]
  },
  {
   "cell_type": "code",
   "execution_count": null,
   "metadata": {
    "collapsed": true
   },
   "outputs": [],
   "source": []
  },
  {
   "cell_type": "code",
   "execution_count": null,
   "metadata": {
    "collapsed": true
   },
   "outputs": [],
   "source": [
    "for imgs, labels in validation_generator:\n",
    "    y_preds = np.argmax(model.predict(imgs), axis=1) + 1\n",
    "    print(np.sum(y_preds == labels) / len(labels))"
   ]
  },
  {
   "cell_type": "code",
   "execution_count": null,
   "metadata": {
    "collapsed": true
   },
   "outputs": [],
   "source": [
    "for layer in model.layers[1].layers[-11:]:\n",
    "    layer.trainable = True\n",
    "    print(layer.name, layer.trainable)\n",
    "\n",
    "# if load:\n",
    "\n",
    "# Show a summary of the model. Check the number of trainable parameters\n",
    "for layer in model.layers:\n",
    "    print(layer, layer.trainable)\n",
    "\n",
    "for layer in model.layers[1].layers:\n",
    "    print(layer, layer.trainable)\n",
    "\n",
    "model.layers[1].summary()\n",
    "model.summary()\n",
    "\n",
    "print(model.layers[-3].get_weights())"
   ]
  },
  {
   "cell_type": "code",
   "execution_count": null,
   "metadata": {
    "collapsed": true,
    "scrolled": true
   },
   "outputs": [],
   "source": [
    "optim = keras.optimizers.Adam(lr=(1e-4))\n",
    "\n",
    "# Compile the model\n",
    "model.compile(loss='categorical_crossentropy',\n",
    "            optimizer=optim,\n",
    "            metrics=['acc'])\n",
    "\n",
    "print(model.layers[-3].get_weights())\n",
    "\n",
    "# Train the model\n",
    "history = model.fit_generator(\n",
    "        train_generator,\n",
    "        #   steps_per_epoch=train_generator.samples/train_generator.batch_size ,\n",
    "        steps_per_epoch=200,\n",
    "        epochs=30,\n",
    "        validation_data=validation_generator,\n",
    "        validation_steps=validation_generator.samples/validation_generator.batch_size,\n",
    "        verbose=1,\n",
    "        callbacks=[keras.callbacks.ModelCheckpoint('learnopencv101_ft_checkpoint.h5', monitor='val_loss', verbose=2, save_best_only=True, mode='auto', period=1)]\n",
    "    )\n",
    "\n",
    "# # here's a more \"manual\" example\n",
    "# for e in range(epochs):\n",
    "#     print('Epoch', e)\n",
    "#     batches = 0\n",
    "#     for x_batch, y_batch in train_datagen:\n",
    "#         np.apply_along_axis(preprocess_input, 1, x_batch)\n",
    "#         model.fit(x_batch, y_batch)\n",
    "#         batches += 1\n",
    "#         if batches >= len(x_train) / train_batchsize:\n",
    "#             samples = 0\n",
    "#             for x_batch, y_batch in val_datagen:\n",
    "#                 y_pred = np.argmax(model.predict(X_val), axis=1) + 1\n",
    "#                 correct = np.sum(y_pred == y_batch)\n",
    "#                 samples += x_batch.shape[0]\n",
    "#             print(\"val acc: \", correct / samples)\n",
    "#             break"
   ]
  },
  {
   "cell_type": "code",
   "execution_count": null,
   "metadata": {
    "collapsed": true
   },
   "outputs": [],
   "source": []
  },
  {
   "cell_type": "markdown",
   "metadata": {},
   "source": [
    "# PREDICTIONS AND SAVING THEM"
   ]
  },
  {
   "cell_type": "code",
   "execution_count": null,
   "metadata": {
    "collapsed": true
   },
   "outputs": [],
   "source": [
    "# ONE PREDICTION AT A TIME\n",
    "predictions = {}\n",
    "for index, feature_vector in X_test.items():\n",
    "    predictions[int(index)] = the_clf.predict(feature_vector)[0]\n",
    "    print(index, end='\\r')"
   ]
  },
  {
   "cell_type": "code",
   "execution_count": null,
   "metadata": {
    "collapsed": true
   },
   "outputs": [],
   "source": [
    "# BATCH OF PREDICTIONS\n",
    "X_test_arr = np.array(list(X_test.values()))\n",
    "X_test_arr = X_test_arr.reshape(-1,2048)\n",
    "\n",
    "y_pred = the_clf.predict(X_test_arr)\n",
    "predictions2 = {}\n",
    "for i, index in enumerate(X_test.keys()):\n",
    "    predictions2[int(index)] = y_pred[i]"
   ]
  },
  {
   "cell_type": "code",
   "execution_count": null,
   "metadata": {
    "collapsed": true
   },
   "outputs": [],
   "source": [
    "prev_pred = deepcopy(predictions)\n",
    "predictions = predictions2"
   ]
  },
  {
   "cell_type": "code",
   "execution_count": null,
   "metadata": {
    "collapsed": true
   },
   "outputs": [],
   "source": [
    "from collections import Counter\n",
    "counted = Counter(predictions.values())\n",
    "most_common_class = counted.most_common()[0][0]\n",
    "\n",
    "for index in range(1, 12801):\n",
    "    if(index not in predictions.keys()):\n",
    "        predictions[index] = most_common_class"
   ]
  },
  {
   "cell_type": "code",
   "execution_count": null,
   "metadata": {
    "collapsed": true
   },
   "outputs": [],
   "source": [
    "ids = []\n",
    "values = []\n",
    "for key, value in predictions.items():\n",
    "    ids.append(key)\n",
    "    values.append(value)\n",
    "    \n",
    "out_dict = {}\n",
    "out_dict['id'] = ids\n",
    "out_dict['predicted'] = values"
   ]
  },
  {
   "cell_type": "code",
   "execution_count": null,
   "metadata": {
    "collapsed": true
   },
   "outputs": [],
   "source": [
    "keys = sorted(out_dict.keys())\n",
    "COL_WIDTH = 6\n",
    "FMT = \"%%-%ds\" % COL_WIDTH\n",
    "\n",
    "with open('try_this_one.csv', 'w') as csv:\n",
    "    # Write keys    \n",
    "    csv.write(','.join([k for k in keys]) + '\\n')\n",
    "\n",
    "    # Assume all values of dict are equal\n",
    "    for i in range(len(out_dict[keys[0]])):\n",
    "        csv.write(','.join([FMT % out_dict[k][i] for k in keys]) + '\\n')"
   ]
  },
  {
   "cell_type": "code",
   "execution_count": null,
   "metadata": {
    "collapsed": true
   },
   "outputs": [],
   "source": [
    "# X_train, X_val, y_train, y_val = train_test_split(X, y, stratify = y, test_size = 0.1)\n",
    "warm_mlp = MLPClassifier(hidden_layer_sizes=(200,), max_iter=1, alpha=1e-4,\n",
    "            solver='sgd', verbose=10, tol=1e-4, random_state=None,\n",
    "            learning_rate='adaptive', learning_rate_init=.001,\n",
    "            warm_start=True)\n",
    "\n",
    "val_scores = []\n",
    "losses = []\n",
    "clfs = []\n",
    "for i in range(1,4000):\n",
    "    warm_mlp.fit(X_train,y_train)\n",
    "    val_score = warm_mlp.score(X_val, y_val)\n",
    "    \n",
    "    val_scores.append(val_score)\n",
    "    losses.append(warm_mlp.loss_)\n",
    "    if(val_score > 0.7):\n",
    "        clfs.append(deepcopy(warm_mlp))\n",
    "    \n",
    "    print(\"Val score:\", val_score)\n",
    "\n",
    "from sklearn.externals import joblib\n",
    "joblib.dump(clfs, 'clfs_250features.pkl') "
   ]
  },
  {
   "cell_type": "code",
   "execution_count": null,
   "metadata": {
    "collapsed": true
   },
   "outputs": [],
   "source": [
    "from keras.preprocessing.image import ImageDataGenerator\n",
    "\n",
    "train_datagen = ImageDataGenerator(\n",
    "        rescale=1./255,\n",
    "        shear_range=0.2,\n",
    "        zoom_range=0.2,\n",
    "        horizontal_flip=True)\n",
    "\n",
    "# test_datagen = ImageDataGenerator(rescale=1./255)\n",
    "\n",
    "# train_generator = train_datagen.flow_from_directory(\n",
    "#         'data/train',\n",
    "#         target_size=(150, 150),\n",
    "#         batch_size=32,\n",
    "#         class_mode='binary')\n",
    "\n",
    "# validation_generator = test_datagen.flow_from_directory(\n",
    "#         'data/validation',\n",
    "#         target_size=(150, 150),\n",
    "#         batch_size=32,\n",
    "#         class_mode='binary')\n",
    "\n",
    "# train_generator.flow(x, y=None, batch_size=32, shuffle=True, seed=None, save_to_dir='./gen_test', save_prefix='', save_format='png', subset=None)\n",
    "iterator = train_datagen.flow_from_directory('data/valid', target_size=(244, 244), color_mode='rgb', classes=None, class_mode='categorical', batch_size=32, shuffle=True, \n",
    "                                    seed=None, save_to_dir='gen_test', save_prefix='', save_format='png', follow_links=False, subset=None, interpolation='nearest')\n",
    "\n",
    "for i in iterator:\n",
    "    print(i)"
   ]
  }
 ],
 "metadata": {
  "kernelspec": {
   "display_name": "Python 3",
   "language": "python",
   "name": "python3"
  },
  "language_info": {
   "codemirror_mode": {
    "name": "ipython",
    "version": 3
   },
   "file_extension": ".py",
   "mimetype": "text/x-python",
   "name": "python",
   "nbconvert_exporter": "python",
   "pygments_lexer": "ipython3",
   "version": "3.6.1"
  }
 },
 "nbformat": 4,
 "nbformat_minor": 2
}
