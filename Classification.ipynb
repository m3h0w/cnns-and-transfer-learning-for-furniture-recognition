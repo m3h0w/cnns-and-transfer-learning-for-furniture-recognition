{
 "cells": [
  {
   "cell_type": "code",
   "execution_count": 2,
   "metadata": {},
   "outputs": [
    {
     "name": "stdout",
     "output_type": "stream",
     "text": [
      "['.git', '.gitignore', '.ipynb_checkpoints', 'Classification.ipynb', 'data', 'feature_extractor.py', 'feature_extractor_linux.py', 'keras_test.py', 'LICENSE', 'out.csv', 'README.md', 'rescale.py', 'submission.csv', 'test.csv', 'test.json', 'train.json', 'Untitled.ipynb', 'validation.json']\n"
     ]
    }
   ],
   "source": [
    "import numpy as np # linear algebra\n",
    "import pandas as pd # data processing, CSV file I/O (e.g. pd.read_csv)\n",
    "import matplotlib.pyplot as plt\n",
    "import seaborn as sns\n",
    "import json\n",
    "import csv\n",
    "from pandas import DataFrame\n",
    "import time\n",
    "import gc\n",
    "\n",
    "import cv2\n",
    "\n",
    "from IPython.display import Image\n",
    "from IPython.core.display import HTML\n",
    "\n",
    "from scipy.sparse import csr_matrix\n",
    "\n",
    "%matplotlib inline \n",
    "\n",
    "import os\n",
    "print(os.listdir(\".\"))"
   ]
  },
  {
   "cell_type": "code",
   "execution_count": 5,
   "metadata": {
    "collapsed": true
   },
   "outputs": [],
   "source": [
    "import glob\n",
    "import pickle\n",
    "\n",
    "FEATURES_LOCATION = './data/features/'\n",
    "F_CORE = 'cnn_features_'\n",
    "\n",
    "def get_label_from_path(file):\n",
    "    return file.split('\\\\')[1].split('.')[0]\n",
    "\n",
    "def load_data(mode):\n",
    "    if(mode == 'test'):\n",
    "        pickle_path = F_CORE + mode\n",
    "        data = pickle.load(open(FEATURES_LOCATION + pickle_path + '.pkl', 'rb'))\n",
    "        to_return = {}\n",
    "        for key, value in list(data.items()):\n",
    "            to_return[get_label_from_path(key)] = value.reshape(1,-1)\n",
    "        return to_return, None\n",
    "    \n",
    "    pickle_path = F_CORE + mode + '_'\n",
    "    \n",
    "    data = {}\n",
    "    for i in range(1,129):\n",
    "        data[i] = pickle.load(open(FEATURES_LOCATION + pickle_path + str(i) + '.pkl', 'rb'))\n",
    "        \n",
    "    X = []\n",
    "    y = []\n",
    "    for key, value in list(data.items()):\n",
    "        the_class = key\n",
    "        features = np.array(list(value.values()))\n",
    "        for feature in features:\n",
    "            y.append(the_class)\n",
    "            X.append(feature)\n",
    "\n",
    "    return np.array(X), np.array(y)"
   ]
  },
  {
   "cell_type": "code",
   "execution_count": 6,
   "metadata": {},
   "outputs": [],
   "source": [
    "X, y = load_data('train')"
   ]
  },
  {
   "cell_type": "code",
   "execution_count": 7,
   "metadata": {},
   "outputs": [
    {
     "name": "stdout",
     "output_type": "stream",
     "text": [
      "Iteration 1, loss = 1.42169598\n",
      "Iteration 2, loss = 1.07068397\n",
      "Iteration 3, loss = 0.96465872\n",
      "Iteration 4, loss = 0.89250515\n",
      "Iteration 5, loss = 0.84201521\n",
      "Iteration 6, loss = 0.80044844\n",
      "Iteration 7, loss = 0.76176381\n",
      "Iteration 8, loss = 0.72834389\n",
      "Iteration 9, loss = 0.70717050\n",
      "Iteration 10, loss = 0.68041461\n",
      "Iteration 11, loss = 0.65688303\n",
      "Iteration 12, loss = 0.64092608\n",
      "Iteration 13, loss = 0.61912717\n",
      "Iteration 14, loss = 0.61550232\n",
      "Iteration 15, loss = 0.59147971\n",
      "Iteration 16, loss = 0.58939011\n",
      "Iteration 17, loss = 0.56983562\n",
      "Iteration 18, loss = 0.56280231\n",
      "Iteration 19, loss = 0.55121680\n",
      "Iteration 20, loss = 0.54297954\n",
      "Iteration 21, loss = 0.53507924\n",
      "Iteration 22, loss = 0.53226530\n",
      "Iteration 23, loss = 0.51224345\n",
      "Iteration 24, loss = 0.51605744\n",
      "Iteration 25, loss = 0.50099846\n",
      "Iteration 26, loss = 0.49769710\n",
      "Iteration 27, loss = 0.48720257\n",
      "Iteration 28, loss = 0.49002446\n",
      "Iteration 29, loss = 0.48366202\n",
      "Iteration 30, loss = 0.47170707\n",
      "Iteration 31, loss = 0.46724566\n",
      "Iteration 32, loss = 0.46852658\n",
      "Iteration 33, loss = 0.46296542\n",
      "Iteration 34, loss = 0.46201761\n",
      "Iteration 35, loss = 0.45783150\n",
      "Iteration 36, loss = 0.45641528\n",
      "Iteration 37, loss = 0.45275706\n",
      "Iteration 38, loss = 0.45059946\n",
      "Iteration 39, loss = 0.45874540\n",
      "Iteration 40, loss = 0.44555016\n",
      "Iteration 41, loss = 0.43538325\n",
      "Iteration 42, loss = 0.44726526\n",
      "Iteration 43, loss = 0.44015190\n",
      "Iteration 44, loss = 0.43208206\n",
      "Iteration 45, loss = 0.43754470\n",
      "Iteration 46, loss = 0.43432539\n",
      "Iteration 47, loss = 0.42913147\n",
      "Iteration 48, loss = 0.43129793\n",
      "Iteration 49, loss = 0.42447982\n",
      "Iteration 50, loss = 0.43175193\n",
      "Iteration 51, loss = 0.42224134\n",
      "Iteration 52, loss = 0.41592868\n",
      "Iteration 53, loss = 0.41452302\n",
      "Iteration 54, loss = 0.41416235\n",
      "Iteration 55, loss = 0.41951598\n",
      "Iteration 56, loss = 0.42692634\n",
      "Iteration 57, loss = 0.42007385\n",
      "Training loss did not improve more than tol=0.000100 for two consecutive epochs. Setting learning rate to 0.020000\n",
      "Iteration 58, loss = 0.22892796\n",
      "Iteration 59, loss = 0.16663133\n",
      "Iteration 60, loss = 0.14829400\n",
      "Iteration 61, loss = 0.13730263\n",
      "Iteration 62, loss = 0.12845551\n",
      "Iteration 63, loss = 0.12165848\n",
      "Iteration 64, loss = 0.11589456\n",
      "Iteration 65, loss = 0.11067485\n",
      "Iteration 66, loss = 0.10626261\n",
      "Iteration 67, loss = 0.10198432\n",
      "Iteration 68, loss = 0.09853119\n",
      "Iteration 69, loss = 0.09513801\n",
      "Iteration 70, loss = 0.09195607\n",
      "Iteration 71, loss = 0.08917941\n",
      "Iteration 72, loss = 0.08601137\n",
      "Iteration 73, loss = 0.08315034\n",
      "Iteration 74, loss = 0.08076090\n",
      "Iteration 75, loss = 0.07870662\n",
      "Iteration 76, loss = 0.07645992\n",
      "Iteration 77, loss = 0.07414129\n",
      "Iteration 78, loss = 0.07187374\n",
      "Iteration 79, loss = 0.06993639\n",
      "Iteration 80, loss = 0.06822904\n",
      "Iteration 81, loss = 0.06667669\n",
      "Iteration 82, loss = 0.06494597\n",
      "Iteration 83, loss = 0.06331152\n",
      "Iteration 84, loss = 0.06200501\n",
      "Iteration 85, loss = 0.06037472\n",
      "Iteration 86, loss = 0.05906081\n",
      "Iteration 87, loss = 0.05740745\n",
      "Iteration 88, loss = 0.05599744\n",
      "Iteration 89, loss = 0.05521111\n",
      "Iteration 90, loss = 0.05380969\n",
      "Iteration 91, loss = 0.05271735\n",
      "Iteration 92, loss = 0.05145052\n",
      "Iteration 93, loss = 0.05062905\n",
      "Iteration 94, loss = 0.04964182\n",
      "Iteration 95, loss = 0.04885861\n",
      "Iteration 96, loss = 0.04778362\n",
      "Iteration 97, loss = 0.04685588\n",
      "Iteration 98, loss = 0.04589053\n",
      "Iteration 99, loss = 0.04503090\n",
      "Iteration 100, loss = 0.04449598\n",
      "Iteration 101, loss = 0.04369402\n",
      "Iteration 102, loss = 0.04284223\n",
      "Iteration 103, loss = 0.04210043\n",
      "Iteration 104, loss = 0.04175446\n",
      "Iteration 105, loss = 0.04080725\n",
      "Iteration 106, loss = 0.03995158\n",
      "Iteration 107, loss = 0.03944937\n",
      "Iteration 108, loss = 0.03892636\n",
      "Iteration 109, loss = 0.03878294\n",
      "Iteration 110, loss = 0.03803576\n",
      "Iteration 111, loss = 0.03749130\n",
      "Iteration 112, loss = 0.03683306\n",
      "Iteration 113, loss = 0.03633871\n",
      "Iteration 114, loss = 0.03590378\n",
      "Iteration 115, loss = 0.03558549\n",
      "Iteration 116, loss = 0.03519631\n",
      "Iteration 117, loss = 0.03468705\n",
      "Iteration 118, loss = 0.03443416\n",
      "Iteration 119, loss = 0.03393967\n",
      "Iteration 120, loss = 0.03350443\n",
      "Iteration 121, loss = 0.03346298\n",
      "Iteration 122, loss = 0.03313421\n",
      "Iteration 123, loss = 0.03255723\n",
      "Iteration 124, loss = 0.03226912\n",
      "Iteration 125, loss = 0.03173159\n",
      "Iteration 126, loss = 0.03149953\n",
      "Iteration 127, loss = 0.03128227\n",
      "Iteration 128, loss = 0.03102773\n",
      "Iteration 129, loss = 0.03060439\n",
      "Iteration 130, loss = 0.03016372\n",
      "Iteration 131, loss = 0.02971634\n",
      "Iteration 132, loss = 0.02990394\n",
      "Iteration 133, loss = 0.02993144\n",
      "Iteration 134, loss = 0.02909974\n",
      "Iteration 135, loss = 0.02921037\n",
      "Iteration 136, loss = 0.02889203\n",
      "Iteration 137, loss = 0.02885422\n",
      "Iteration 138, loss = 0.02845607\n",
      "Iteration 139, loss = 0.02840434\n",
      "Iteration 140, loss = 0.02827134\n",
      "Iteration 141, loss = 0.02791311\n",
      "Iteration 142, loss = 0.02789768\n",
      "Iteration 143, loss = 0.02769093\n",
      "Iteration 144, loss = 0.02742072\n",
      "Iteration 145, loss = 0.02711888\n",
      "Iteration 146, loss = 0.02723272\n",
      "Iteration 147, loss = 0.02685127\n",
      "Iteration 148, loss = 0.02682868\n",
      "Iteration 149, loss = 0.02660995\n",
      "Iteration 150, loss = 0.02651790\n",
      "Iteration 151, loss = 0.02687397\n",
      "Iteration 152, loss = 0.02652440\n",
      "Training loss did not improve more than tol=0.000100 for two consecutive epochs. Setting learning rate to 0.004000\n",
      "Iteration 153, loss = 0.02364191\n",
      "Iteration 154, loss = 0.02261173\n",
      "Iteration 155, loss = 0.02238715\n",
      "Iteration 156, loss = 0.02225205\n",
      "Iteration 157, loss = 0.02214731\n",
      "Iteration 158, loss = 0.02210302\n",
      "Iteration 159, loss = 0.02203835\n",
      "Iteration 160, loss = 0.02198756\n",
      "Training loss did not improve more than tol=0.000100 for two consecutive epochs. Setting learning rate to 0.000800\n",
      "Iteration 161, loss = 0.02155248\n",
      "Iteration 162, loss = 0.02147404\n",
      "Iteration 163, loss = 0.02144696\n",
      "Iteration 164, loss = 0.02143048\n",
      "Training loss did not improve more than tol=0.000100 for two consecutive epochs. Setting learning rate to 0.000160\n",
      "Iteration 165, loss = 0.02132987\n",
      "Iteration 166, loss = 0.02132479\n",
      "Iteration 167, loss = 0.02132165\n",
      "Iteration 168, loss = 0.02131862\n",
      "Training loss did not improve more than tol=0.000100 for two consecutive epochs. Setting learning rate to 0.000032\n",
      "Iteration 169, loss = 0.02129738\n",
      "Iteration 170, loss = 0.02129698\n",
      "Iteration 171, loss = 0.02129649\n",
      "Training loss did not improve more than tol=0.000100 for two consecutive epochs. Setting learning rate to 0.000006\n",
      "Iteration 172, loss = 0.02129210\n",
      "Iteration 173, loss = 0.02129199\n",
      "Iteration 174, loss = 0.02129191\n",
      "Training loss did not improve more than tol=0.000100 for two consecutive epochs. Setting learning rate to 0.000001\n",
      "Iteration 175, loss = 0.02129103\n",
      "Iteration 176, loss = 0.02129101\n",
      "Iteration 177, loss = 0.02129099\n",
      "Training loss did not improve more than tol=0.000100 for two consecutive epochs. Setting learning rate to 0.000000\n",
      "Iteration 178, loss = 0.02129082\n",
      "Iteration 179, loss = 0.02129081\n",
      "Iteration 180, loss = 0.02129081\n",
      "Training loss did not improve more than tol=0.000100 for two consecutive epochs. Learning rate too small. Stopping.\n",
      "TRAIN: [   412    413    414 ... 192168 192169 192170] TEST: [     0      1      2 ... 191309 191310 191311]\n",
      "Training set score: 0.997009\n",
      "Test set score: 0.996989\n",
      "TRAIN: [     0      1      2 ... 192168 192169 192170] TEST: [   412    413    414 ... 191739 191740 191741]\n",
      "Training set score: 0.997011\n",
      "Test set score: 0.996987\n",
      "TRAIN: [     0      1      2 ... 191739 191740 191741] TEST: [   824    825    826 ... 192168 192169 192170]\n",
      "Training set score: 0.996988\n",
      "Test set score: 0.997032\n"
     ]
    },
    {
     "ename": "NameError",
     "evalue": "name 'clf' is not defined",
     "output_type": "error",
     "traceback": [
      "\u001b[1;31m---------------------------------------------------------------------------\u001b[0m",
      "\u001b[1;31mNameError\u001b[0m                                 Traceback (most recent call last)",
      "\u001b[1;32m<ipython-input-7-2d4e1b0d9f43>\u001b[0m in \u001b[0;36m<module>\u001b[1;34m()\u001b[0m\n\u001b[0;32m     28\u001b[0m \u001b[1;33m\u001b[0m\u001b[0m\n\u001b[0;32m     29\u001b[0m \u001b[1;32mfrom\u001b[0m \u001b[0msklearn\u001b[0m\u001b[1;33m.\u001b[0m\u001b[0mexternals\u001b[0m \u001b[1;32mimport\u001b[0m \u001b[0mjoblib\u001b[0m\u001b[1;33m\u001b[0m\u001b[0m\n\u001b[1;32m---> 30\u001b[1;33m \u001b[0mjoblib\u001b[0m\u001b[1;33m.\u001b[0m\u001b[0mdump\u001b[0m\u001b[1;33m(\u001b[0m\u001b[0mclf\u001b[0m\u001b[1;33m,\u001b[0m \u001b[1;34m'mlp_200_100.pkl'\u001b[0m\u001b[1;33m)\u001b[0m\u001b[1;33m\u001b[0m\u001b[0m\n\u001b[0m",
      "\u001b[1;31mNameError\u001b[0m: name 'clf' is not defined"
     ]
    }
   ],
   "source": [
    "from sklearn.neural_network import MLPClassifier\n",
    "from sklearn.preprocessing import MultiLabelBinarizer \n",
    "# y_mlb = MultiLabelBinarizer().fit_transform(y)\n",
    "# print(y)\n",
    "\n",
    "from sklearn.model_selection import StratifiedKFold\n",
    "skf = StratifiedKFold()\n",
    "skf.get_n_splits(X, y)\n",
    "\n",
    "StratifiedKFold(n_splits=3, random_state=None, shuffle=False)\n",
    "# for train_index, test_index in skf.split(X, y):\n",
    "#     print(\"TRAIN:\", train_index, \"TEST:\", test_index)\n",
    "#     X_train, X_test = X[train_index], X[test_index]\n",
    "#     y_train, y_test = y[train_index], y[test_index]\n",
    "\n",
    "mlp = MLPClassifier(hidden_layer_sizes=(200, 100), max_iter=200, alpha=1e-4,\n",
    "                    solver='sgd', verbose=10, tol=1e-4, random_state=1,\n",
    "                    learning_rate='adaptive', learning_rate_init=.1,\n",
    "                   early_)\n",
    "mlp.fit(X, y)\n",
    "\n",
    "StratifiedKFold(n_splits=3, random_state=None, shuffle=False)\n",
    "for train_index, test_index in skf.split(X, y):\n",
    "    print(\"TRAIN:\", train_index, \"TEST:\", test_index)\n",
    "    X_train, X_test = X[train_index], X[test_index]\n",
    "    y_train, y_test = y[train_index], y[test_index]\n",
    "    print(\"Training set score: %f\" % mlp.score(X_train, y_train))\n",
    "    print(\"Test set score: %f\" % mlp.score(X_test, y_test))\n",
    "    \n"
   ]
  },
  {
   "cell_type": "code",
   "execution_count": 8,
   "metadata": {},
   "outputs": [
    {
     "data": {
      "text/plain": [
       "['mlp_200_100.pkl']"
      ]
     },
     "execution_count": 8,
     "metadata": {},
     "output_type": "execute_result"
    }
   ],
   "source": [
    "from sklearn.externals import joblib\n",
    "joblib.dump(mlp, 'mlp_200_100.pkl') "
   ]
  },
  {
   "cell_type": "code",
   "execution_count": null,
   "metadata": {},
   "outputs": [],
   "source": [
    "mlp2 = MLPClassifier(hidden_layer_sizes=(400, 200), max_iter=1000, alpha=1e-4,\n",
    "                    solver='sgd', verbose=10, tol=1e-4, random_state=1,\n",
    "                    learning_rate='adaptive', learning_rate_init=.1)\n",
    "mlp2.fit(X, y)"
   ]
  },
  {
   "cell_type": "code",
   "execution_count": 10,
   "metadata": {
    "collapsed": true
   },
   "outputs": [],
   "source": [
    "X_val, y_val = load_data('valid')"
   ]
  },
  {
   "cell_type": "code",
   "execution_count": 11,
   "metadata": {},
   "outputs": [
    {
     "data": {
      "text/plain": [
       "0.7262640672055793"
      ]
     },
     "execution_count": 11,
     "metadata": {},
     "output_type": "execute_result"
    }
   ],
   "source": [
    "mlp.score(X_val, y_val)"
   ]
  },
  {
   "cell_type": "code",
   "execution_count": 151,
   "metadata": {
    "collapsed": true
   },
   "outputs": [],
   "source": [
    "X_test, _ = load_data('test')"
   ]
  },
  {
   "cell_type": "code",
   "execution_count": 152,
   "metadata": {
    "collapsed": true
   },
   "outputs": [],
   "source": [
    "predictions = {}\n",
    "for index, feature_vector in X_test.items():\n",
    "    predictions[int(index)] = mlp.predict(feature_vector)[0]"
   ]
  },
  {
   "cell_type": "code",
   "execution_count": 153,
   "metadata": {
    "collapsed": true
   },
   "outputs": [],
   "source": [
    "from collections import Counter\n",
    "counted = Counter(predictions.values())\n",
    "most_common_class = counted.most_common()[0][0]\n",
    "\n",
    "for index in range(1, 12801):\n",
    "    if(index not in predictions.keys()):\n",
    "        predictions[index] = most_common_class"
   ]
  },
  {
   "cell_type": "code",
   "execution_count": 154,
   "metadata": {
    "collapsed": true
   },
   "outputs": [],
   "source": [
    "ids = []\n",
    "values = []\n",
    "for key, value in predictions.items():\n",
    "    ids.append(key)\n",
    "    values.append(value)\n",
    "    \n",
    "out_dict = {}\n",
    "out_dict['id'] = ids\n",
    "out_dict['predicted'] = values"
   ]
  },
  {
   "cell_type": "code",
   "execution_count": 155,
   "metadata": {
    "collapsed": true
   },
   "outputs": [],
   "source": [
    "keys = sorted(out_dict.keys())\n",
    "\n",
    "with open('out.csv', 'w') as csv:\n",
    "    # Write keys    \n",
    "    csv.write(','.join([k for k in keys]) + '\\n')\n",
    "\n",
    "    # Assume all values of dict are equal\n",
    "    for i in range(len(out_dict[keys[0]])):\n",
    "        csv.write(','.join([FMT % out_dict[k][i] for k in keys]) + '\\n')"
   ]
  },
  {
   "cell_type": "code",
   "execution_count": null,
   "metadata": {
    "collapsed": true
   },
   "outputs": [],
   "source": []
  }
 ],
 "metadata": {
  "kernelspec": {
   "display_name": "Python 3",
   "language": "python",
   "name": "python3"
  },
  "language_info": {
   "codemirror_mode": {
    "name": "ipython",
    "version": 3
   },
   "file_extension": ".py",
   "mimetype": "text/x-python",
   "name": "python",
   "nbconvert_exporter": "python",
   "pygments_lexer": "ipython3",
   "version": "3.6.1"
  }
 },
 "nbformat": 4,
 "nbformat_minor": 2
}
