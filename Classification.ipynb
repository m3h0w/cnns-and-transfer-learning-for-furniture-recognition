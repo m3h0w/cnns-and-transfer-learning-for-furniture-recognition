{
 "cells": [
  {
   "cell_type": "markdown",
   "metadata": {},
   "source": [
    "To do:\n",
    "- merge valid and train\n",
    "- generate new valid: https://www.kaggle.com/anqitu/data-distribution-eda-and-leaderboard-exploit/code\n",
    "- train linear classifier and compare to MLP performance (drop these features if there is no difference in performance)\n",
    "- try getting activations from earlier in the network\n",
    "- transfer learning: adjust later last layers of ResNet50 to our task\n",
    "- train CNN from scratch: http://cs231n.github.io/transfer-learning/\n",
    "- check scaling"
   ]
  },
  {
   "cell_type": "code",
   "execution_count": 1,
   "metadata": {},
   "outputs": [
    {
     "name": "stdout",
     "output_type": "stream",
     "text": [
      "['.git', '.gitignore', '.ipynb_checkpoints', 'Classification.ipynb', 'data', 'feature_extractor.py', 'feature_extractor_batch.py', 'feature_extractor_linux.py', 'Initial exploration.ipynb', 'keras_test.py', 'LICENSE', 'mlp_200_100.pkl', 'out.csv', 'README.md', 'rescale.py', 'Silllina.ipynb', 'submission.csv', 'test.csv', 'test.json', 'TF-MLP.ipynb', 'train.json', 'try_this_one.csv', 'validation.json', 'warm_clfs.pkl', 'warm_clfs2.pkl', 'warm_clfs3.pkl', 'warm_clfs4.pkl']\n"
     ]
    }
   ],
   "source": [
    "import numpy as np\n",
    "import pandas as pd\n",
    "import matplotlib.pyplot as plt\n",
    "import seaborn as sns\n",
    "import json\n",
    "import csv\n",
    "import time\n",
    "from copy import deepcopy\n",
    "\n",
    "%matplotlib inline \n",
    "\n",
    "import os\n",
    "print(os.listdir(\".\"))\n",
    "\n",
    "from sklearn.neural_network import MLPClassifier\n",
    "from sklearn.model_selection import train_test_split\n",
    "from sklearn.decomposition import PCA"
   ]
  },
  {
   "cell_type": "code",
   "execution_count": 2,
   "metadata": {
    "collapsed": true
   },
   "outputs": [],
   "source": [
    "import glob\n",
    "import pickle\n",
    "\n",
    "FEATURES_LOCATION = './data/features/'\n",
    "F_CORE = 'cnn_features_'\n",
    "\n",
    "def get_label_from_path(file):\n",
    "    return file.split('\\\\')[1].split('.')[0]\n",
    "\n",
    "def load_data(mode):\n",
    "    if(mode == 'test'):\n",
    "        pickle_path = F_CORE + mode\n",
    "        data = pickle.load(open(FEATURES_LOCATION + pickle_path + '.pkl', 'rb'))\n",
    "        to_return = {}\n",
    "        for key, value in list(data.items()):\n",
    "            to_return[get_label_from_path(key)] = value.reshape(1,-1)\n",
    "        return to_return, None\n",
    "    \n",
    "    pickle_path = F_CORE + mode + '_'\n",
    "    \n",
    "    data = {}\n",
    "    for i in range(1,129):\n",
    "        data[i] = pickle.load(open(FEATURES_LOCATION + pickle_path + str(i) + '.pkl', 'rb'))\n",
    "        \n",
    "    X = []\n",
    "    y = []\n",
    "    for key, value in list(data.items()):\n",
    "        the_class = key\n",
    "        features = np.array(list(value.values()))\n",
    "        for feature in features:\n",
    "            y.append(the_class)\n",
    "            X.append(feature)\n",
    "\n",
    "    return np.array(X), np.array(y)"
   ]
  },
  {
   "cell_type": "code",
   "execution_count": 3,
   "metadata": {
    "collapsed": true
   },
   "outputs": [],
   "source": [
    "X, y = load_data('train')\n",
    "X_val, y_val = load_data('valid')"
   ]
  },
  {
   "cell_type": "code",
   "execution_count": 11,
   "metadata": {},
   "outputs": [
    {
     "name": "stdout",
     "output_type": "stream",
     "text": [
      "716\n"
     ]
    },
    {
     "data": {
      "image/png": "[encoded data removed]",
      "text/plain": [
       "<matplotlib.figure.Figure at 0x235614aca20>"
      ]
     },
     "metadata": {},
     "output_type": "display_data"
    }
   ],
   "source": [
    "weights = np.ones_like(y) / (len(y))\n",
    "_ = plt.hist(y, weights=weights, bins=np.max(y), alpha=0.7)\n",
    "weights = np.ones_like(y_val) / (len(y_val))\n",
    "_ = plt.hist(y_val, weights=weights, bins=np.max(y_val), alpha=0.5)\n",
    "\n",
    "from collections import Counter\n",
    "counted = Counter(y)\n",
    "most_common_class = counted.most_common()[0][0]\n",
    "        \n",
    "print(counted[34])"
   ]
  },
  {
   "cell_type": "code",
   "execution_count": 4,
   "metadata": {
    "collapsed": true
   },
   "outputs": [],
   "source": [
    "X = np.concatenate((X, X_val), axis=0)\n",
    "y = np.concatenate((y, y_val), axis=0)"
   ]
  },
  {
   "cell_type": "code",
   "execution_count": 6,
   "metadata": {
    "collapsed": true
   },
   "outputs": [],
   "source": [
    "X_train, X_val, y_train, y_val = train_test_split(X, y, stratify = y, test_size = 0.05)"
   ]
  },
  {
   "cell_type": "code",
   "execution_count": null,
   "metadata": {
    "collapsed": true
   },
   "outputs": [],
   "source": [
    "mlp = MLPClassifier(hidden_layer_sizes=(200, 100), max_iter=200, alpha=0.25,\n",
    "                    solver='sgd', verbose=10, tol=1e-4, random_state=1,\n",
    "                    learning_rate='adaptive', learning_rate_init=.1)\n",
    "mlp.fit(X_train, y_train)"
   ]
  },
  {
   "cell_type": "code",
   "execution_count": null,
   "metadata": {
    "collapsed": true
   },
   "outputs": [],
   "source": [
    "from sklearn.externals import joblib\n",
    "joblib.dump(mlp, 'mlp_200_100.pkl') "
   ]
  },
  {
   "cell_type": "code",
   "execution_count": 79,
   "metadata": {},
   "outputs": [
    {
     "name": "stdout",
     "output_type": "stream",
     "text": [
      "Iteration 1, loss = 2.28873116\n"
     ]
    },
    {
     "name": "stderr",
     "output_type": "stream",
     "text": [
      "C:\\Users\\Michal\\Anaconda3\\lib\\site-packages\\sklearn\\neural_network\\multilayer_perceptron.py:564: ConvergenceWarning: Stochastic Optimizer: Maximum iterations (1) reached and the optimization hasn't converged yet.\n",
      "  % self.max_iter, ConvergenceWarning)\n"
     ]
    },
    {
     "name": "stdout",
     "output_type": "stream",
     "text": [
      "Val score: 0.6292825473599355\n",
      "Iteration 2, loss = 1.22757467\n",
      "Val score: 0.6838976219266425\n",
      "Iteration 3, loss = 1.05957962\n",
      "Val score: 0.7043530834340992\n",
      "Iteration 4, loss = 0.97396514\n",
      "Val score: 0.7199214026602176\n",
      "Iteration 5, loss = 0.91685031\n",
      "Val score: 0.7296453043127771\n",
      "Iteration 6, loss = 0.87350552\n",
      "Val score: 0.736446997178557\n",
      "Iteration 7, loss = 0.83941594\n",
      "Val score: 0.7438029020556227\n",
      "Iteration 8, loss = 0.81027740\n",
      "Val score: 0.748690044336961\n",
      "Iteration 9, loss = 0.78619717\n",
      "Val score: 0.7507557436517533\n",
      "Iteration 10, loss = 0.76378661\n",
      "Val score: 0.7555925030229746\n",
      "Iteration 11, loss = 0.74458201\n",
      "Val score: 0.7582627972591697\n",
      "Iteration 12, loss = 0.72656728\n",
      "Val score: 0.7596231358323257\n",
      "Iteration 13, loss = 0.71045980\n",
      "Val score: 0.7627468762595727\n",
      "Iteration 14, loss = 0.69517952\n",
      "Val score: 0.7653667875856509\n",
      "Iteration 15, loss = 0.68135815\n",
      "Val score: 0.7672813381700927\n",
      "Iteration 16, loss = 0.66855619\n",
      "Val score: 0.7676844014510278\n",
      "Iteration 17, loss = 0.65600149\n",
      "Val score: 0.7700523982265216\n",
      "Iteration 18, loss = 0.64445148\n",
      "Val score: 0.7713623538895606\n",
      "Iteration 19, loss = 0.63340600\n",
      "Val score: 0.7744860943168077\n",
      "Iteration 20, loss = 0.62303851\n",
      "Val score: 0.7748891575977428\n",
      "Iteration 21, loss = 0.61350145\n",
      "Val score: 0.7795747682386135\n",
      "Iteration 22, loss = 0.60331430\n",
      "Val score: 0.7777106005642886\n",
      "Iteration 23, loss = 0.59428517\n",
      "Val score: 0.777509068923821\n",
      "Iteration 24, loss = 0.58574662\n",
      "Val score: 0.7785671100362757\n",
      "Iteration 25, loss = 0.57683138\n",
      "Val score: 0.7809351068117695\n",
      "Iteration 26, loss = 0.56897457\n",
      "Val score: 0.7791213220475615\n",
      "Iteration 27, loss = 0.56074485\n",
      "Val score: 0.7815397017331721\n",
      "Iteration 28, loss = 0.55328574\n",
      "Val score: 0.783403869407497\n",
      "Iteration 29, loss = 0.54594748\n",
      "Val score: 0.7836557839580814\n",
      "Iteration 30, loss = 0.53872079\n",
      "Val score: 0.7823962112051592\n",
      "Iteration 31, loss = 0.53166845\n",
      "Val score: 0.7841092301491334\n",
      "Iteration 32, loss = 0.52452923\n",
      "Val score: 0.7832527206771464\n",
      "Iteration 33, loss = 0.51777672\n",
      "Val score: 0.7857214832728738\n",
      "Iteration 34, loss = 0.51153453\n",
      "Val score: 0.7853184199919387\n",
      "Iteration 35, loss = 0.50493985\n",
      "Val score: 0.7847642079806529\n",
      "Iteration 36, loss = 0.49867027\n",
      "Val score: 0.7875352680370818\n",
      "Iteration 37, loss = 0.49295048\n",
      "Val score: 0.7892986698911729\n",
      "Iteration 38, loss = 0.48718251\n",
      "Val score: 0.785167271261588\n",
      "Iteration 39, loss = 0.48140561\n",
      "Val score: 0.7885429262394196\n",
      "Iteration 40, loss = 0.47563336\n",
      "Val score: 0.7873337363966143\n",
      "Iteration 41, loss = 0.47001948\n",
      "Val score: 0.7880390971382507\n",
      "Iteration 42, loss = 0.46444207\n",
      "Val score: 0.7901047964530431\n",
      "Iteration 43, loss = 0.45917893\n",
      "Val score: 0.7895002015316405\n",
      "Iteration 44, loss = 0.45410664\n",
      "Val score: 0.791062071745264\n",
      "Iteration 45, loss = 0.44876379\n",
      "Val score: 0.7912636033857315\n",
      "Iteration 46, loss = 0.44386533\n",
      "Val score: 0.7895505844417574\n",
      "Iteration 47, loss = 0.43900630\n",
      "Val score: 0.7886436920596533\n",
      "Iteration 48, loss = 0.43387275\n",
      "Val score: 0.7914651350261991\n",
      "Iteration 49, loss = 0.42913977\n",
      "Val score: 0.7914651350261991\n",
      "Iteration 50, loss = 0.42438486\n",
      "Val score: 0.7932789197904071\n",
      "Iteration 51, loss = 0.41957727\n",
      "Val score: 0.791968964127368\n",
      "Iteration 52, loss = 0.41518280\n",
      "Val score: 0.7904574768238614\n",
      "Iteration 53, loss = 0.41098787\n",
      "Val score: 0.7910116888351472\n",
      "Iteration 54, loss = 0.40629827\n",
      "Val score: 0.7911124546553809\n",
      "Iteration 55, loss = 0.40208424\n",
      "Val score: 0.7920193470374849\n",
      "Iteration 56, loss = 0.39741035\n",
      "Val score: 0.7937323659814591\n",
      "Iteration 57, loss = 0.39339667\n",
      "Val score: 0.7925735590487707\n",
      "Iteration 58, loss = 0.38907460\n",
      "Val score: 0.7930773881499396\n",
      "Iteration 59, loss = 0.38504370\n",
      "Val score: 0.7942865779927448\n",
      "Iteration 60, loss = 0.38116549\n",
      "Val score: 0.7938331318016929\n",
      "Iteration 61, loss = 0.37698272\n",
      "Val score: 0.7925735590487707\n",
      "Iteration 62, loss = 0.37300820\n",
      "Val score: 0.7934300685207578\n",
      "Iteration 63, loss = 0.36910771\n",
      "Val score: 0.7942865779927448\n",
      "Iteration 64, loss = 0.36516076\n",
      "Val score: 0.7936316001612254\n",
      "Iteration 65, loss = 0.36145887\n",
      "Val score: 0.7948911729141476\n",
      "Iteration 66, loss = 0.35745576\n",
      "Val score: 0.7937323659814591\n",
      "Iteration 67, loss = 0.35412409\n",
      "Val score: 0.794236195082628\n",
      "Iteration 68, loss = 0.35032285\n",
      "Val score: 0.7946392583635631\n",
      "Iteration 69, loss = 0.34634887\n",
      "Val score: 0.7948911729141476\n",
      "Iteration 70, loss = 0.34327545\n",
      "Val score: 0.7958988311164853\n",
      "Iteration 71, loss = 0.33945854\n",
      "Val score: 0.7931781539701733\n",
      "Iteration 72, loss = 0.33596161\n",
      "Val score: 0.7940346634421604\n",
      "Iteration 73, loss = 0.33285773\n",
      "Val score: 0.7940850463522773\n",
      "Iteration 74, loss = 0.32939246\n",
      "Val score: 0.7949919387343813\n",
      "Iteration 75, loss = 0.32588586\n",
      "Val score: 0.7947400241837969\n",
      "Iteration 76, loss = 0.32271167\n",
      "Val score: 0.7962011285771866\n",
      "Iteration 77, loss = 0.31921218\n",
      "Val score: 0.7944377267230955\n",
      "Iteration 78, loss = 0.31605133\n",
      "Val score: 0.794236195082628\n",
      "Iteration 79, loss = 0.31271231\n",
      "Val score: 0.7944377267230955\n",
      "Iteration 80, loss = 0.30986091\n",
      "Val score: 0.7952438532849657\n",
      "Iteration 81, loss = 0.30628434\n",
      "Val score: 0.7952438532849657\n",
      "Iteration 82, loss = 0.30347303\n",
      "Val score: 0.796906489318823\n",
      "Iteration 83, loss = 0.30024006\n",
      "Val score: 0.7936316001612254\n",
      "Iteration 84, loss = 0.29701311\n",
      "Val score: 0.7976622329705764\n",
      "Iteration 85, loss = 0.29429597\n",
      "Val score: 0.7954453849254333\n",
      "Iteration 86, loss = 0.29133922\n",
      "Val score: 0.7961003627569528\n",
      "Iteration 87, loss = 0.28843597\n",
      "Val score: 0.7961003627569528\n",
      "Iteration 88, loss = 0.28547494\n",
      "Val score: 0.7941354292623942\n",
      "Iteration 89, loss = 0.28259025\n",
      "Val score: 0.7948407900040306\n",
      "Iteration 90, loss = 0.27959659\n",
      "Val score: 0.7968057234985892\n",
      "Iteration 91, loss = 0.27680531\n",
      "Val score: 0.7945888754534461\n",
      "Iteration 92, loss = 0.27403408\n",
      "Val score: 0.7953446191051995\n",
      "Iteration 93, loss = 0.27157646\n",
      "Val score: 0.7959492140266021\n"
     ]
    },
    {
     "name": "stderr",
     "output_type": "stream",
     "text": [
      "C:\\Users\\Michal\\Anaconda3\\lib\\site-packages\\sklearn\\neural_network\\multilayer_perceptron.py:566: UserWarning: Training interrupted by user.\n",
      "  warnings.warn(\"Training interrupted by user.\")\n"
     ]
    },
    {
     "name": "stdout",
     "output_type": "stream",
     "text": [
      "Val score: 0.7939842805320435\n"
     ]
    },
    {
     "ename": "KeyboardInterrupt",
     "evalue": "",
     "output_type": "error",
     "traceback": [
      "\u001b[1;31m---------------------------------------------------------------------------\u001b[0m",
      "\u001b[1;31mKeyboardInterrupt\u001b[0m                         Traceback (most recent call last)",
      "\u001b[1;32m<ipython-input-79-7e279515f50f>\u001b[0m in \u001b[0;36m<module>\u001b[1;34m()\u001b[0m\n\u001b[0;32m     12\u001b[0m \u001b[1;32mfor\u001b[0m \u001b[0mi\u001b[0m \u001b[1;32min\u001b[0m \u001b[0mrange\u001b[0m\u001b[1;33m(\u001b[0m\u001b[1;36m1\u001b[0m\u001b[1;33m,\u001b[0m\u001b[1;36m4000\u001b[0m\u001b[1;33m)\u001b[0m\u001b[1;33m:\u001b[0m\u001b[1;33m\u001b[0m\u001b[0m\n\u001b[0;32m     13\u001b[0m     \u001b[0mwarm_mlp\u001b[0m\u001b[1;33m.\u001b[0m\u001b[0mfit\u001b[0m\u001b[1;33m(\u001b[0m\u001b[0mX_train\u001b[0m\u001b[1;33m,\u001b[0m\u001b[0my_train\u001b[0m\u001b[1;33m)\u001b[0m\u001b[1;33m\u001b[0m\u001b[0m\n\u001b[1;32m---> 14\u001b[1;33m     \u001b[0mval_score\u001b[0m \u001b[1;33m=\u001b[0m \u001b[0mwarm_mlp\u001b[0m\u001b[1;33m.\u001b[0m\u001b[0mscore\u001b[0m\u001b[1;33m(\u001b[0m\u001b[0mX_val\u001b[0m\u001b[1;33m,\u001b[0m \u001b[0my_val\u001b[0m\u001b[1;33m)\u001b[0m\u001b[1;33m\u001b[0m\u001b[0m\n\u001b[0m\u001b[0;32m     15\u001b[0m \u001b[1;33m\u001b[0m\u001b[0m\n\u001b[0;32m     16\u001b[0m     \u001b[0mval_scores\u001b[0m\u001b[1;33m.\u001b[0m\u001b[0mappend\u001b[0m\u001b[1;33m(\u001b[0m\u001b[0mval_score\u001b[0m\u001b[1;33m)\u001b[0m\u001b[1;33m\u001b[0m\u001b[0m\n",
      "\u001b[1;32mC:\\Users\\Michal\\Anaconda3\\lib\\site-packages\\sklearn\\base.py\u001b[0m in \u001b[0;36mscore\u001b[1;34m(self, X, y, sample_weight)\u001b[0m\n\u001b[0;32m    348\u001b[0m         \"\"\"\n\u001b[0;32m    349\u001b[0m         \u001b[1;32mfrom\u001b[0m \u001b[1;33m.\u001b[0m\u001b[0mmetrics\u001b[0m \u001b[1;32mimport\u001b[0m \u001b[0maccuracy_score\u001b[0m\u001b[1;33m\u001b[0m\u001b[0m\n\u001b[1;32m--> 350\u001b[1;33m         \u001b[1;32mreturn\u001b[0m \u001b[0maccuracy_score\u001b[0m\u001b[1;33m(\u001b[0m\u001b[0my\u001b[0m\u001b[1;33m,\u001b[0m \u001b[0mself\u001b[0m\u001b[1;33m.\u001b[0m\u001b[0mpredict\u001b[0m\u001b[1;33m(\u001b[0m\u001b[0mX\u001b[0m\u001b[1;33m)\u001b[0m\u001b[1;33m,\u001b[0m \u001b[0msample_weight\u001b[0m\u001b[1;33m=\u001b[0m\u001b[0msample_weight\u001b[0m\u001b[1;33m)\u001b[0m\u001b[1;33m\u001b[0m\u001b[0m\n\u001b[0m\u001b[0;32m    351\u001b[0m \u001b[1;33m\u001b[0m\u001b[0m\n\u001b[0;32m    352\u001b[0m \u001b[1;33m\u001b[0m\u001b[0m\n",
      "\u001b[1;32mC:\\Users\\Michal\\Anaconda3\\lib\\site-packages\\sklearn\\neural_network\\multilayer_perceptron.py\u001b[0m in \u001b[0;36mpredict\u001b[1;34m(self, X)\u001b[0m\n\u001b[0;32m    947\u001b[0m         \"\"\"\n\u001b[0;32m    948\u001b[0m         \u001b[0mcheck_is_fitted\u001b[0m\u001b[1;33m(\u001b[0m\u001b[0mself\u001b[0m\u001b[1;33m,\u001b[0m \u001b[1;34m\"coefs_\"\u001b[0m\u001b[1;33m)\u001b[0m\u001b[1;33m\u001b[0m\u001b[0m\n\u001b[1;32m--> 949\u001b[1;33m         \u001b[0my_pred\u001b[0m \u001b[1;33m=\u001b[0m \u001b[0mself\u001b[0m\u001b[1;33m.\u001b[0m\u001b[0m_predict\u001b[0m\u001b[1;33m(\u001b[0m\u001b[0mX\u001b[0m\u001b[1;33m)\u001b[0m\u001b[1;33m\u001b[0m\u001b[0m\n\u001b[0m\u001b[0;32m    950\u001b[0m \u001b[1;33m\u001b[0m\u001b[0m\n\u001b[0;32m    951\u001b[0m         \u001b[1;32mif\u001b[0m \u001b[0mself\u001b[0m\u001b[1;33m.\u001b[0m\u001b[0mn_outputs_\u001b[0m \u001b[1;33m==\u001b[0m \u001b[1;36m1\u001b[0m\u001b[1;33m:\u001b[0m\u001b[1;33m\u001b[0m\u001b[0m\n",
      "\u001b[1;32mC:\\Users\\Michal\\Anaconda3\\lib\\site-packages\\sklearn\\neural_network\\multilayer_perceptron.py\u001b[0m in \u001b[0;36m_predict\u001b[1;34m(self, X)\u001b[0m\n\u001b[0;32m    676\u001b[0m                                          layer_units[i + 1])))\n\u001b[0;32m    677\u001b[0m         \u001b[1;31m# forward propagate\u001b[0m\u001b[1;33m\u001b[0m\u001b[1;33m\u001b[0m\u001b[0m\n\u001b[1;32m--> 678\u001b[1;33m         \u001b[0mself\u001b[0m\u001b[1;33m.\u001b[0m\u001b[0m_forward_pass\u001b[0m\u001b[1;33m(\u001b[0m\u001b[0mactivations\u001b[0m\u001b[1;33m)\u001b[0m\u001b[1;33m\u001b[0m\u001b[0m\n\u001b[0m\u001b[0;32m    679\u001b[0m         \u001b[0my_pred\u001b[0m \u001b[1;33m=\u001b[0m \u001b[0mactivations\u001b[0m\u001b[1;33m[\u001b[0m\u001b[1;33m-\u001b[0m\u001b[1;36m1\u001b[0m\u001b[1;33m]\u001b[0m\u001b[1;33m\u001b[0m\u001b[0m\n\u001b[0;32m    680\u001b[0m \u001b[1;33m\u001b[0m\u001b[0m\n",
      "\u001b[1;32mC:\\Users\\Michal\\Anaconda3\\lib\\site-packages\\sklearn\\neural_network\\multilayer_perceptron.py\u001b[0m in \u001b[0;36m_forward_pass\u001b[1;34m(self, activations)\u001b[0m\n\u001b[0;32m    103\u001b[0m         \u001b[1;32mfor\u001b[0m \u001b[0mi\u001b[0m \u001b[1;32min\u001b[0m \u001b[0mrange\u001b[0m\u001b[1;33m(\u001b[0m\u001b[0mself\u001b[0m\u001b[1;33m.\u001b[0m\u001b[0mn_layers_\u001b[0m \u001b[1;33m-\u001b[0m \u001b[1;36m1\u001b[0m\u001b[1;33m)\u001b[0m\u001b[1;33m:\u001b[0m\u001b[1;33m\u001b[0m\u001b[0m\n\u001b[0;32m    104\u001b[0m             activations[i + 1] = safe_sparse_dot(activations[i],\n\u001b[1;32m--> 105\u001b[1;33m                                                  self.coefs_[i])\n\u001b[0m\u001b[0;32m    106\u001b[0m             \u001b[0mactivations\u001b[0m\u001b[1;33m[\u001b[0m\u001b[0mi\u001b[0m \u001b[1;33m+\u001b[0m \u001b[1;36m1\u001b[0m\u001b[1;33m]\u001b[0m \u001b[1;33m+=\u001b[0m \u001b[0mself\u001b[0m\u001b[1;33m.\u001b[0m\u001b[0mintercepts_\u001b[0m\u001b[1;33m[\u001b[0m\u001b[0mi\u001b[0m\u001b[1;33m]\u001b[0m\u001b[1;33m\u001b[0m\u001b[0m\n\u001b[0;32m    107\u001b[0m \u001b[1;33m\u001b[0m\u001b[0m\n",
      "\u001b[1;32mC:\\Users\\Michal\\Anaconda3\\lib\\site-packages\\sklearn\\utils\\extmath.py\u001b[0m in \u001b[0;36msafe_sparse_dot\u001b[1;34m(a, b, dense_output)\u001b[0m\n\u001b[0;32m    138\u001b[0m         \u001b[1;32mreturn\u001b[0m \u001b[0mret\u001b[0m\u001b[1;33m\u001b[0m\u001b[0m\n\u001b[0;32m    139\u001b[0m     \u001b[1;32melse\u001b[0m\u001b[1;33m:\u001b[0m\u001b[1;33m\u001b[0m\u001b[0m\n\u001b[1;32m--> 140\u001b[1;33m         \u001b[1;32mreturn\u001b[0m \u001b[0mnp\u001b[0m\u001b[1;33m.\u001b[0m\u001b[0mdot\u001b[0m\u001b[1;33m(\u001b[0m\u001b[0ma\u001b[0m\u001b[1;33m,\u001b[0m \u001b[0mb\u001b[0m\u001b[1;33m)\u001b[0m\u001b[1;33m\u001b[0m\u001b[0m\n\u001b[0m\u001b[0;32m    141\u001b[0m \u001b[1;33m\u001b[0m\u001b[0m\n\u001b[0;32m    142\u001b[0m \u001b[1;33m\u001b[0m\u001b[0m\n",
      "\u001b[1;31mKeyboardInterrupt\u001b[0m: "
     ]
    }
   ],
   "source": [
    "X_train, X_val, y_train, y_val = train_test_split(X, y, stratify = y, test_size = 0.1)\n",
    "\n",
    "warm_mlp = MLPClassifier(hidden_layer_sizes=(1000,), max_iter=1, alpha=1e-4,\n",
    "            solver='sgd', verbose=10, tol=1e-4, random_state=None,\n",
    "            learning_rate='adaptive', learning_rate_init=.001,\n",
    "            warm_start=True)\n",
    "\n",
    "val_scores = []\n",
    "losses = []\n",
    "clfs = []\n",
    "for i in range(1,4000):\n",
    "    warm_mlp.fit(X_train,y_train)\n",
    "    val_score = warm_mlp.score(X_val, y_val)\n",
    "    \n",
    "    val_scores.append(val_score)\n",
    "    losses.append(warm_mlp.loss_)\n",
    "    if(val_score > 0.78):\n",
    "        clfs.append(deepcopy(warm_mlp))\n",
    "    \n",
    "    print(\"Val score:\", val_score)\n",
    "\n",
    "from sklearn.externals import joblib\n",
    "joblib.dump(clfs, 'warm_clfs_512.pkl') "
   ]
  },
  {
   "cell_type": "code",
   "execution_count": 13,
   "metadata": {
    "scrolled": true
   },
   "outputs": [
    {
     "name": "stdout",
     "output_type": "stream",
     "text": [
      "Iteration 118, loss = 0.16783498\n",
      "Val score: 0.7964530431277711\n",
      "Iteration 119, loss = 0.16611181\n",
      "Val score: 0.7971584038694075\n",
      "Iteration 120, loss = 0.16396161\n",
      "Val score: 0.798770656993148\n",
      "Iteration 121, loss = 0.16225765\n",
      "Val score: 0.7965538089480049\n",
      "Iteration 122, loss = 0.16040205\n",
      "Val score: 0.7970576380491737\n",
      "Iteration 123, loss = 0.15853175\n",
      "Val score: 0.7954453849254333\n",
      "Iteration 124, loss = 0.15677194\n",
      "Val score: 0.79695687222894\n",
      "Iteration 125, loss = 0.15485444\n",
      "Val score: 0.7975614671503426\n",
      "Iteration 126, loss = 0.15295885\n",
      "Val score: 0.7977629987908101\n",
      "Iteration 127, loss = 0.15128176\n",
      "Val score: 0.7977629987908101\n",
      "Iteration 128, loss = 0.14951657\n",
      "Val score: 0.7967553405884724\n",
      "Iteration 129, loss = 0.14800201\n",
      "Val score: 0.7959492140266021\n",
      "Iteration 130, loss = 0.14639875\n",
      "Val score: 0.7952438532849657\n",
      "Iteration 131, loss = 0.14457120\n",
      "Val score: 0.797359935509875\n",
      "Iteration 132, loss = 0.14293582\n",
      "Val score: 0.7970576380491737\n",
      "Iteration 133, loss = 0.14133046\n",
      "Val score: 0.7972591696896413\n",
      "Iteration 134, loss = 0.13976731\n",
      "Val score: 0.7965538089480049\n",
      "Iteration 135, loss = 0.13818892\n",
      "Val score: 0.7978637646110439\n",
      "Iteration 136, loss = 0.13652967\n",
      "Val score: 0.7970576380491737\n",
      "Iteration 137, loss = 0.13510154\n",
      "Val score: 0.7971584038694075\n",
      "Iteration 138, loss = 0.13352803\n",
      "Val score: 0.7966545747682386\n",
      "Iteration 139, loss = 0.13219140\n",
      "Val score: 0.79695687222894\n",
      "Iteration 140, loss = 0.13053618\n",
      "Val score: 0.7978637646110439\n",
      "Iteration 141, loss = 0.12912601\n",
      "Val score: 0.7976622329705764\n",
      "Iteration 142, loss = 0.12777203\n",
      "Val score: 0.7970576380491737\n",
      "Iteration 143, loss = 0.12623854\n",
      "Val score: 0.7966545747682386\n",
      "Iteration 144, loss = 0.12501525\n",
      "Val score: 0.795143087464732\n",
      "Iteration 145, loss = 0.12355035\n",
      "Val score: 0.7981660620717452\n",
      "Iteration 146, loss = 0.12219429\n",
      "Val score: 0.7989721886336155\n",
      "Iteration 147, loss = 0.12080429\n",
      "Val score: 0.7970576380491737\n",
      "Iteration 148, loss = 0.11956892\n",
      "Val score: 0.7985691253526803\n",
      "Iteration 149, loss = 0.11799891\n",
      "Val score: 0.7980652962515115\n",
      "Iteration 150, loss = 0.11696302\n",
      "Val score: 0.797359935509875\n",
      "Iteration 151, loss = 0.11565591\n",
      "Val score: 0.7954453849254333\n",
      "Iteration 152, loss = 0.11449345\n",
      "Val score: 0.7967553405884724\n",
      "Iteration 153, loss = 0.11324306\n",
      "Val score: 0.7952438532849657\n",
      "Iteration 154, loss = 0.11198302\n",
      "Val score: 0.7964530431277711\n",
      "Iteration 155, loss = 0.11067916\n",
      "Val score: 0.7983675937122128\n",
      "Iteration 156, loss = 0.10966985\n",
      "Val score: 0.7994760177347844\n"
     ]
    },
    {
     "data": {
      "text/plain": [
       "['warm_clfs4.pkl']"
      ]
     },
     "execution_count": 13,
     "metadata": {},
     "output_type": "execute_result"
    }
   ],
   "source": [
    "for i in range(1,40):\n",
    "    warm_mlp.fit(X_train,y_train)\n",
    "    val_score = warm_mlp.score(X_val, y_val)\n",
    "    \n",
    "    val_scores.append(val_score)\n",
    "    losses.append(warm_mlp.loss_)\n",
    "    if(val_score > 0.785):\n",
    "        clfs.append(deepcopy(warm_mlp))\n",
    "    \n",
    "    print(\"Val score:\", val_score)\n",
    "\n",
    "from sklearn.externals import joblib\n",
    "joblib.dump(clfs, 'warm_clfs4.pkl') "
   ]
  },
  {
   "cell_type": "code",
   "execution_count": 44,
   "metadata": {},
   "outputs": [
    {
     "data": {
      "image/png": "[encoded data removed]",
      "text/plain": [
       "<matplotlib.figure.Figure at 0x167e31032b0>"
      ]
     },
     "metadata": {},
     "output_type": "display_data"
    }
   ],
   "source": [
    "plt.plot(range(len(losses)), 1 - np.array(val_scores), 'g')\n",
    "plt.plot(range(len(losses)), losses / max(losses), 'r')\n",
    "plt.show()"
   ]
  },
  {
   "cell_type": "code",
   "execution_count": 101,
   "metadata": {
    "collapsed": true
   },
   "outputs": [],
   "source": [
    "X_test, _ = load_data('test')"
   ]
  },
  {
   "cell_type": "code",
   "execution_count": 69,
   "metadata": {},
   "outputs": [
    {
     "name": "stdout",
     "output_type": "stream",
     "text": [
      "99990\r"
     ]
    }
   ],
   "source": [
    "# ONE PREDICTION AT A TIME\n",
    "predictions = {}\n",
    "for index, feature_vector in X_test.items():\n",
    "    predictions[int(index)] = the_clf.predict(feature_vector)[0]\n",
    "    print(index, end='\\r')"
   ]
  },
  {
   "cell_type": "code",
   "execution_count": 108,
   "metadata": {
    "collapsed": true
   },
   "outputs": [],
   "source": [
    "# BATCH OF PREDICTIONS\n",
    "X_test_arr = np.array(list(X_test.values()))\n",
    "X_test_arr = X_test_arr.reshape(-1,2048)\n",
    "\n",
    "y_pred = the_clf.predict(X_test_arr)\n",
    "predictions2 = {}\n",
    "for i, index in enumerate(X_test.keys()):\n",
    "    predictions2[int(index)] = y_pred[i]"
   ]
  },
  {
   "cell_type": "code",
   "execution_count": 109,
   "metadata": {
    "collapsed": true
   },
   "outputs": [],
   "source": [
    "prev_pred = deepcopy(predictions)\n",
    "predictions = predictions2"
   ]
  },
  {
   "cell_type": "code",
   "execution_count": 110,
   "metadata": {
    "collapsed": true
   },
   "outputs": [],
   "source": [
    "from collections import Counter\n",
    "counted = Counter(predictions.values())\n",
    "most_common_class = counted.most_common()[0][0]\n",
    "\n",
    "for index in range(1, 12801):\n",
    "    if(index not in predictions.keys()):\n",
    "        predictions[index] = most_common_class"
   ]
  },
  {
   "cell_type": "code",
   "execution_count": 111,
   "metadata": {
    "collapsed": true
   },
   "outputs": [],
   "source": [
    "ids = []\n",
    "values = []\n",
    "for key, value in predictions.items():\n",
    "    ids.append(key)\n",
    "    values.append(value)\n",
    "    \n",
    "out_dict = {}\n",
    "out_dict['id'] = ids\n",
    "out_dict['predicted'] = values"
   ]
  },
  {
   "cell_type": "code",
   "execution_count": 113,
   "metadata": {
    "collapsed": true
   },
   "outputs": [],
   "source": [
    "keys = sorted(out_dict.keys())\n",
    "COL_WIDTH = 6\n",
    "FMT = \"%%-%ds\" % COL_WIDTH\n",
    "\n",
    "with open('try_this_one.csv', 'w') as csv:\n",
    "    # Write keys    \n",
    "    csv.write(','.join([k for k in keys]) + '\\n')\n",
    "\n",
    "    # Assume all values of dict are equal\n",
    "    for i in range(len(out_dict[keys[0]])):\n",
    "        csv.write(','.join([FMT % out_dict[k][i] for k in keys]) + '\\n')"
   ]
  },
  {
   "cell_type": "code",
   "execution_count": 27,
   "metadata": {},
   "outputs": [
    {
     "name": "stdout",
     "output_type": "stream",
     "text": [
      "Iteration 1, loss = 2.89798529\n"
     ]
    },
    {
     "name": "stderr",
     "output_type": "stream",
     "text": [
      "C:\\Users\\Michal\\Anaconda3\\lib\\site-packages\\sklearn\\neural_network\\multilayer_perceptron.py:564: ConvergenceWarning: Stochastic Optimizer: Maximum iterations (1) reached and the optimization hasn't converged yet.\n",
      "  % self.max_iter, ConvergenceWarning)\n"
     ]
    },
    {
     "name": "stdout",
     "output_type": "stream",
     "text": [
      "Val score: 0.5282144296654575\n",
      "Iteration 2, loss = 1.58595645\n",
      "Val score: 0.609230149133414\n",
      "Iteration 3, loss = 1.33435703\n",
      "Val score: 0.6424324869004434\n",
      "Iteration 4, loss = 1.21493818\n",
      "Val score: 0.6618802902055623\n",
      "Iteration 5, loss = 1.14020006\n",
      "Val score: 0.673720274083031\n",
      "Iteration 6, loss = 1.08726612\n",
      "Val score: 0.6847541313986296\n",
      "Iteration 7, loss = 1.04640361\n",
      "Val score: 0.6925634824667473\n",
      "Iteration 8, loss = 1.01393233\n",
      "Val score: 0.6994155582426441\n",
      "Iteration 9, loss = 0.98667286\n",
      "Val score: 0.70304312777106\n",
      "Iteration 10, loss = 0.96353372\n",
      "Val score: 0.7085348649738009\n",
      "Iteration 11, loss = 0.94332357\n",
      "Val score: 0.7119609028617493\n",
      "Iteration 12, loss = 0.92558716\n",
      "Val score: 0.7159411527609835\n",
      "Iteration 13, loss = 0.90971104\n",
      "Val score: 0.7189137444578799\n",
      "Iteration 14, loss = 0.89523302\n",
      "Val score: 0.7205259975816203\n",
      "Iteration 15, loss = 0.88221576\n",
      "Val score: 0.7228939943571141\n",
      "Iteration 16, loss = 0.87020693\n",
      "Val score: 0.7255642885933091\n",
      "Iteration 17, loss = 0.85904227\n",
      "Val score: 0.7270757758968158\n",
      "Iteration 18, loss = 0.84864316\n",
      "Val score: 0.7289399435711407\n",
      "Iteration 19, loss = 0.83909227\n",
      "Val score: 0.7311567916162838\n",
      "Iteration 20, loss = 0.83008575\n",
      "Val score: 0.7317110036275696\n",
      "Iteration 21, loss = 0.82155590\n",
      "Val score: 0.7328698105602579\n",
      "Iteration 22, loss = 0.81341474\n",
      "Val score: 0.7348851269649335\n",
      "Iteration 23, loss = 0.80594291\n",
      "Val score: 0.7366989117291415\n",
      "Iteration 24, loss = 0.79877709\n",
      "Val score: 0.738260781942765\n",
      "Iteration 25, loss = 0.79191502\n",
      "Val score: 0.7383615477629988\n",
      "Iteration 26, loss = 0.78527586\n",
      "Val score: 0.7398226521563885\n",
      "Iteration 27, loss = 0.77912588\n",
      "Val score: 0.7410822249093107\n",
      "Iteration 28, loss = 0.77297220\n",
      "Val score: 0.7428960096735188\n",
      "Iteration 29, loss = 0.76732342\n",
      "Val score: 0.742341797662233\n",
      "Iteration 30, loss = 0.76179849\n",
      "Val score: 0.7426440951229343\n",
      "Iteration 31, loss = 0.75635109\n",
      "Val score: 0.7450624748085449\n",
      "Iteration 32, loss = 0.75142962\n",
      "Val score: 0.7444578798871423\n",
      "Iteration 33, loss = 0.74643090\n",
      "Val score: 0.7453143893591294\n",
      "Iteration 34, loss = 0.74145331\n",
      "Val score: 0.7455663039097138\n",
      "Iteration 35, loss = 0.73704248\n",
      "Val score: 0.7471281741233373\n",
      "Iteration 36, loss = 0.73249481\n",
      "Val score: 0.746825876662636\n",
      "Iteration 37, loss = 0.72816187\n",
      "Val score: 0.7472289399435711\n",
      "Iteration 38, loss = 0.72403544\n",
      "Val score: 0.7481358323256752\n",
      "Iteration 39, loss = 0.71981847\n",
      "Val score: 0.7483877468762595\n",
      "Iteration 40, loss = 0.71593854\n",
      "Val score: 0.7491434905280129\n",
      "Iteration 41, loss = 0.71201712\n",
      "Val score: 0.7500503829101169\n",
      "Iteration 42, loss = 0.70826914\n",
      "Val score: 0.7495969367190649\n",
      "Iteration 43, loss = 0.70457426\n",
      "Val score: 0.7498488512696493\n",
      "Iteration 44, loss = 0.70117557\n",
      "Val score: 0.7505038291011689\n",
      "Iteration 45, loss = 0.69752426\n",
      "Val score: 0.7516626360338573\n",
      "Iteration 46, loss = 0.69413286\n",
      "Val score: 0.751813784764208\n",
      "Iteration 47, loss = 0.69062390\n",
      "Val score: 0.7510580411124547\n",
      "Iteration 48, loss = 0.68739851\n",
      "Val score: 0.7524687625957275\n",
      "Iteration 49, loss = 0.68425968\n",
      "Val score: 0.7508061265618702\n",
      "Iteration 50, loss = 0.68106897\n",
      "Val score: 0.7537787182587666\n",
      "Iteration 51, loss = 0.67805590\n",
      "Val score: 0.751813784764208\n",
      "Iteration 52, loss = 0.67519436\n",
      "Val score: 0.7528214429665457\n",
      "Iteration 53, loss = 0.67200639\n",
      "Val score: 0.7522672309552599\n",
      "Iteration 54, loss = 0.66935368\n",
      "Val score: 0.7522672309552599\n",
      "Iteration 55, loss = 0.66628934\n",
      "Val score: 0.7549375251914551\n",
      "Iteration 56, loss = 0.66364823\n",
      "Val score: 0.7530733575171302\n",
      "Iteration 57, loss = 0.66099671\n",
      "Val score: 0.7537787182587666\n",
      "Iteration 58, loss = 0.65838605\n",
      "Val score: 0.7537787182587666\n",
      "Iteration 59, loss = 0.65582840\n",
      "Val score: 0.7559451833937928\n",
      "Iteration 60, loss = 0.65316529\n",
      "Val score: 0.7546856106408706\n",
      "Iteration 61, loss = 0.65060565\n",
      "Val score: 0.7553909713825071\n",
      "Iteration 62, loss = 0.64815820\n",
      "Val score: 0.7555925030229746\n",
      "Iteration 63, loss = 0.64586296\n",
      "Val score: 0.7560963321241435\n",
      "Iteration 64, loss = 0.64327396\n",
      "Val score: 0.7559955663039097\n",
      "Iteration 65, loss = 0.64092680\n",
      "Val score: 0.7549879081015719\n",
      "Iteration 66, loss = 0.63852576\n",
      "Val score: 0.7561467150342603\n",
      "Iteration 67, loss = 0.63637941\n",
      "Val score: 0.7552398226521564\n",
      "Iteration 68, loss = 0.63400142\n",
      "Val score: 0.7573559048770657\n",
      "Iteration 69, loss = 0.63185052\n",
      "Val score: 0.7555421201128577\n",
      "Iteration 70, loss = 0.62971949\n",
      "Val score: 0.7574566706972995\n",
      "Iteration 71, loss = 0.62764208\n",
      "Val score: 0.7554413542926239\n",
      "Iteration 72, loss = 0.62546335\n",
      "Val score: 0.757204756146715\n",
      "Iteration 73, loss = 0.62342784\n",
      "Val score: 0.7586658605401048\n",
      "Iteration 74, loss = 0.62141648\n",
      "Val score: 0.7566001612253124\n",
      "Iteration 75, loss = 0.61936345\n",
      "Val score: 0.7564993954050786\n",
      "Iteration 76, loss = 0.61743569\n",
      "Val score: 0.7575574365175333\n",
      "Iteration 77, loss = 0.61538415\n",
      "Val score: 0.7585147118097542\n",
      "Iteration 78, loss = 0.61342495\n",
      "Val score: 0.7562474808544941\n",
      "Iteration 79, loss = 0.61154140\n",
      "Val score: 0.7584643288996372\n",
      "Iteration 80, loss = 0.60975989\n",
      "Val score: 0.7562978637646111\n",
      "Iteration 81, loss = 0.60782739\n",
      "Val score: 0.7582124143490528\n",
      "Iteration 82, loss = 0.60581230\n",
      "Val score: 0.757204756146715\n",
      "Iteration 83, loss = 0.60418808\n",
      "Val score: 0.7571039903264812\n",
      "Iteration 84, loss = 0.60228719\n",
      "Val score: 0.7569024586860137\n",
      "Iteration 85, loss = 0.60059674\n",
      "Val score: 0.7577589681580008\n",
      "Iteration 86, loss = 0.59892924\n",
      "Val score: 0.7579101168883515\n",
      "Iteration 87, loss = 0.59719000\n",
      "Val score: 0.7571543732365982\n",
      "Iteration 88, loss = 0.59540272\n",
      "Val score: 0.7581620314389359\n",
      "Iteration 89, loss = 0.59380194\n",
      "Val score: 0.757658202337767\n",
      "Iteration 90, loss = 0.59208549\n",
      "Val score: 0.757658202337767\n",
      "Iteration 91, loss = 0.59043176\n",
      "Val score: 0.7585147118097542\n",
      "Iteration 92, loss = 0.58877778\n",
      "Val score: 0.7581620314389359\n",
      "Iteration 93, loss = 0.58722718\n",
      "Val score: 0.7577589681580008\n",
      "Iteration 94, loss = 0.58557219\n",
      "Val score: 0.7581620314389359\n",
      "Iteration 95, loss = 0.58405321\n",
      "Val score: 0.7579604997984684\n",
      "Iteration 96, loss = 0.58249085\n",
      "Val score: 0.7580612656187021\n",
      "Iteration 97, loss = 0.58099412\n",
      "Val score: 0.758565094719871\n",
      "Iteration 98, loss = 0.57951819\n",
      "Val score: 0.7589681580008061\n",
      "Iteration 99, loss = 0.57788618\n",
      "Val score: 0.7581620314389359\n",
      "Iteration 100, loss = 0.57639768\n",
      "Val score: 0.7581116485288191\n",
      "Iteration 101, loss = 0.57494466\n",
      "Val score: 0.7578597339782346\n",
      "Iteration 102, loss = 0.57353261\n",
      "Val score: 0.758565094719871\n",
      "Iteration 103, loss = 0.57204217\n",
      "Val score: 0.7589177750906893\n",
      "Iteration 104, loss = 0.57051109\n",
      "Val score: 0.7581116485288191\n",
      "Iteration 105, loss = 0.56918629\n",
      "Val score: 0.7587162434502217\n",
      "Iteration 106, loss = 0.56797513\n",
      "Val score: 0.7590689238210399\n",
      "Iteration 107, loss = 0.56656094\n",
      "Val score: 0.7587162434502217\n",
      "Iteration 108, loss = 0.56505151\n",
      "Val score: 0.758565094719871\n"
     ]
    },
    {
     "name": "stderr",
     "output_type": "stream",
     "text": [
      "C:\\Users\\Michal\\Anaconda3\\lib\\site-packages\\sklearn\\neural_network\\multilayer_perceptron.py:566: UserWarning: Training interrupted by user.\n",
      "  warnings.warn(\"Training interrupted by user.\")\n"
     ]
    },
    {
     "name": "stdout",
     "output_type": "stream",
     "text": [
      "Val score: 0.7578597339782346\n",
      "Iteration 109, loss = 0.56385029\n",
      "Val score: 0.759471987101975\n",
      "Iteration 110, loss = 0.56248975\n",
      "Val score: 0.7578597339782346\n",
      "Iteration 111, loss = 0.56100910\n",
      "Val score: 0.7582627972591697\n",
      "Iteration 112, loss = 0.55975389\n",
      "Val score: 0.7593208383716243\n",
      "Iteration 113, loss = 0.55852013\n",
      "Val score: 0.7589177750906893\n",
      "Iteration 114, loss = 0.55703085\n",
      "Val score: 0.758565094719871\n",
      "Iteration 115, loss = 0.55585072\n",
      "Val score: 0.7582627972591697\n",
      "Iteration 116, loss = 0.55466461\n",
      "Val score: 0.7582627972591697\n",
      "Iteration 117, loss = 0.55324098\n",
      "Val score: 0.759018540910923\n",
      "Iteration 118, loss = 0.55189542\n",
      "Val score: 0.7581620314389359\n",
      "Iteration 119, loss = 0.55081010\n",
      "Val score: 0.7583131801692866\n",
      "Iteration 120, loss = 0.54962518\n",
      "Val score: 0.7578597339782346\n",
      "Iteration 121, loss = 0.54837312\n",
      "Val score: 0.7592200725513906\n",
      "Iteration 122, loss = 0.54722793\n",
      "Val score: 0.759018540910923\n",
      "Iteration 123, loss = 0.54599857\n",
      "Val score: 0.7582627972591697\n",
      "Iteration 124, loss = 0.54485038\n",
      "Val score: 0.7595223700120919\n",
      "Val score: 0.7585147118097542\n"
     ]
    },
    {
     "ename": "KeyboardInterrupt",
     "evalue": "",
     "output_type": "error",
     "traceback": [
      "\u001b[1;31m---------------------------------------------------------------------------\u001b[0m",
      "\u001b[1;31mKeyboardInterrupt\u001b[0m                         Traceback (most recent call last)",
      "\u001b[1;32m<ipython-input-27-2f7f9736f81f>\u001b[0m in \u001b[0;36m<module>\u001b[1;34m()\u001b[0m\n\u001b[0;32m     11\u001b[0m \u001b[1;32mfor\u001b[0m \u001b[0mi\u001b[0m \u001b[1;32min\u001b[0m \u001b[0mrange\u001b[0m\u001b[1;33m(\u001b[0m\u001b[1;36m1\u001b[0m\u001b[1;33m,\u001b[0m\u001b[1;36m4000\u001b[0m\u001b[1;33m)\u001b[0m\u001b[1;33m:\u001b[0m\u001b[1;33m\u001b[0m\u001b[0m\n\u001b[0;32m     12\u001b[0m     \u001b[0mwarm_mlp\u001b[0m\u001b[1;33m.\u001b[0m\u001b[0mfit\u001b[0m\u001b[1;33m(\u001b[0m\u001b[0mX_train\u001b[0m\u001b[1;33m,\u001b[0m\u001b[0my_train\u001b[0m\u001b[1;33m)\u001b[0m\u001b[1;33m\u001b[0m\u001b[0m\n\u001b[1;32m---> 13\u001b[1;33m     \u001b[0mval_score\u001b[0m \u001b[1;33m=\u001b[0m \u001b[0mwarm_mlp\u001b[0m\u001b[1;33m.\u001b[0m\u001b[0mscore\u001b[0m\u001b[1;33m(\u001b[0m\u001b[0mX_val\u001b[0m\u001b[1;33m,\u001b[0m \u001b[0my_val\u001b[0m\u001b[1;33m)\u001b[0m\u001b[1;33m\u001b[0m\u001b[0m\n\u001b[0m\u001b[0;32m     14\u001b[0m \u001b[1;33m\u001b[0m\u001b[0m\n\u001b[0;32m     15\u001b[0m     \u001b[0mval_scores\u001b[0m\u001b[1;33m.\u001b[0m\u001b[0mappend\u001b[0m\u001b[1;33m(\u001b[0m\u001b[0mval_score\u001b[0m\u001b[1;33m)\u001b[0m\u001b[1;33m\u001b[0m\u001b[0m\n",
      "\u001b[1;32mC:\\Users\\Michal\\Anaconda3\\lib\\site-packages\\sklearn\\base.py\u001b[0m in \u001b[0;36mscore\u001b[1;34m(self, X, y, sample_weight)\u001b[0m\n\u001b[0;32m    348\u001b[0m         \"\"\"\n\u001b[0;32m    349\u001b[0m         \u001b[1;32mfrom\u001b[0m \u001b[1;33m.\u001b[0m\u001b[0mmetrics\u001b[0m \u001b[1;32mimport\u001b[0m \u001b[0maccuracy_score\u001b[0m\u001b[1;33m\u001b[0m\u001b[0m\n\u001b[1;32m--> 350\u001b[1;33m         \u001b[1;32mreturn\u001b[0m \u001b[0maccuracy_score\u001b[0m\u001b[1;33m(\u001b[0m\u001b[0my\u001b[0m\u001b[1;33m,\u001b[0m \u001b[0mself\u001b[0m\u001b[1;33m.\u001b[0m\u001b[0mpredict\u001b[0m\u001b[1;33m(\u001b[0m\u001b[0mX\u001b[0m\u001b[1;33m)\u001b[0m\u001b[1;33m,\u001b[0m \u001b[0msample_weight\u001b[0m\u001b[1;33m=\u001b[0m\u001b[0msample_weight\u001b[0m\u001b[1;33m)\u001b[0m\u001b[1;33m\u001b[0m\u001b[0m\n\u001b[0m\u001b[0;32m    351\u001b[0m \u001b[1;33m\u001b[0m\u001b[0m\n\u001b[0;32m    352\u001b[0m \u001b[1;33m\u001b[0m\u001b[0m\n",
      "\u001b[1;32mC:\\Users\\Michal\\Anaconda3\\lib\\site-packages\\sklearn\\neural_network\\multilayer_perceptron.py\u001b[0m in \u001b[0;36mpredict\u001b[1;34m(self, X)\u001b[0m\n\u001b[0;32m    947\u001b[0m         \"\"\"\n\u001b[0;32m    948\u001b[0m         \u001b[0mcheck_is_fitted\u001b[0m\u001b[1;33m(\u001b[0m\u001b[0mself\u001b[0m\u001b[1;33m,\u001b[0m \u001b[1;34m\"coefs_\"\u001b[0m\u001b[1;33m)\u001b[0m\u001b[1;33m\u001b[0m\u001b[0m\n\u001b[1;32m--> 949\u001b[1;33m         \u001b[0my_pred\u001b[0m \u001b[1;33m=\u001b[0m \u001b[0mself\u001b[0m\u001b[1;33m.\u001b[0m\u001b[0m_predict\u001b[0m\u001b[1;33m(\u001b[0m\u001b[0mX\u001b[0m\u001b[1;33m)\u001b[0m\u001b[1;33m\u001b[0m\u001b[0m\n\u001b[0m\u001b[0;32m    950\u001b[0m \u001b[1;33m\u001b[0m\u001b[0m\n\u001b[0;32m    951\u001b[0m         \u001b[1;32mif\u001b[0m \u001b[0mself\u001b[0m\u001b[1;33m.\u001b[0m\u001b[0mn_outputs_\u001b[0m \u001b[1;33m==\u001b[0m \u001b[1;36m1\u001b[0m\u001b[1;33m:\u001b[0m\u001b[1;33m\u001b[0m\u001b[0m\n",
      "\u001b[1;32mC:\\Users\\Michal\\Anaconda3\\lib\\site-packages\\sklearn\\neural_network\\multilayer_perceptron.py\u001b[0m in \u001b[0;36m_predict\u001b[1;34m(self, X)\u001b[0m\n\u001b[0;32m    676\u001b[0m                                          layer_units[i + 1])))\n\u001b[0;32m    677\u001b[0m         \u001b[1;31m# forward propagate\u001b[0m\u001b[1;33m\u001b[0m\u001b[1;33m\u001b[0m\u001b[0m\n\u001b[1;32m--> 678\u001b[1;33m         \u001b[0mself\u001b[0m\u001b[1;33m.\u001b[0m\u001b[0m_forward_pass\u001b[0m\u001b[1;33m(\u001b[0m\u001b[0mactivations\u001b[0m\u001b[1;33m)\u001b[0m\u001b[1;33m\u001b[0m\u001b[0m\n\u001b[0m\u001b[0;32m    679\u001b[0m         \u001b[0my_pred\u001b[0m \u001b[1;33m=\u001b[0m \u001b[0mactivations\u001b[0m\u001b[1;33m[\u001b[0m\u001b[1;33m-\u001b[0m\u001b[1;36m1\u001b[0m\u001b[1;33m]\u001b[0m\u001b[1;33m\u001b[0m\u001b[0m\n\u001b[0;32m    680\u001b[0m \u001b[1;33m\u001b[0m\u001b[0m\n",
      "\u001b[1;32mC:\\Users\\Michal\\Anaconda3\\lib\\site-packages\\sklearn\\neural_network\\multilayer_perceptron.py\u001b[0m in \u001b[0;36m_forward_pass\u001b[1;34m(self, activations)\u001b[0m\n\u001b[0;32m    112\u001b[0m         \u001b[1;31m# For the last layer\u001b[0m\u001b[1;33m\u001b[0m\u001b[1;33m\u001b[0m\u001b[0m\n\u001b[0;32m    113\u001b[0m         \u001b[0moutput_activation\u001b[0m \u001b[1;33m=\u001b[0m \u001b[0mACTIVATIONS\u001b[0m\u001b[1;33m[\u001b[0m\u001b[0mself\u001b[0m\u001b[1;33m.\u001b[0m\u001b[0mout_activation_\u001b[0m\u001b[1;33m]\u001b[0m\u001b[1;33m\u001b[0m\u001b[0m\n\u001b[1;32m--> 114\u001b[1;33m         \u001b[0mactivations\u001b[0m\u001b[1;33m[\u001b[0m\u001b[0mi\u001b[0m \u001b[1;33m+\u001b[0m \u001b[1;36m1\u001b[0m\u001b[1;33m]\u001b[0m \u001b[1;33m=\u001b[0m \u001b[0moutput_activation\u001b[0m\u001b[1;33m(\u001b[0m\u001b[0mactivations\u001b[0m\u001b[1;33m[\u001b[0m\u001b[0mi\u001b[0m \u001b[1;33m+\u001b[0m \u001b[1;36m1\u001b[0m\u001b[1;33m]\u001b[0m\u001b[1;33m)\u001b[0m\u001b[1;33m\u001b[0m\u001b[0m\n\u001b[0m\u001b[0;32m    115\u001b[0m \u001b[1;33m\u001b[0m\u001b[0m\n\u001b[0;32m    116\u001b[0m         \u001b[1;32mreturn\u001b[0m \u001b[0mactivations\u001b[0m\u001b[1;33m\u001b[0m\u001b[0m\n",
      "\u001b[1;32mC:\\Users\\Michal\\Anaconda3\\lib\\site-packages\\sklearn\\neural_network\\_base.py\u001b[0m in \u001b[0;36msoftmax\u001b[1;34m(X)\u001b[0m\n\u001b[0;32m     90\u001b[0m     \"\"\"\n\u001b[0;32m     91\u001b[0m     \u001b[0mtmp\u001b[0m \u001b[1;33m=\u001b[0m \u001b[0mX\u001b[0m \u001b[1;33m-\u001b[0m \u001b[0mX\u001b[0m\u001b[1;33m.\u001b[0m\u001b[0mmax\u001b[0m\u001b[1;33m(\u001b[0m\u001b[0maxis\u001b[0m\u001b[1;33m=\u001b[0m\u001b[1;36m1\u001b[0m\u001b[1;33m)\u001b[0m\u001b[1;33m[\u001b[0m\u001b[1;33m:\u001b[0m\u001b[1;33m,\u001b[0m \u001b[0mnp\u001b[0m\u001b[1;33m.\u001b[0m\u001b[0mnewaxis\u001b[0m\u001b[1;33m]\u001b[0m\u001b[1;33m\u001b[0m\u001b[0m\n\u001b[1;32m---> 92\u001b[1;33m     \u001b[0mnp\u001b[0m\u001b[1;33m.\u001b[0m\u001b[0mexp\u001b[0m\u001b[1;33m(\u001b[0m\u001b[0mtmp\u001b[0m\u001b[1;33m,\u001b[0m \u001b[0mout\u001b[0m\u001b[1;33m=\u001b[0m\u001b[0mX\u001b[0m\u001b[1;33m)\u001b[0m\u001b[1;33m\u001b[0m\u001b[0m\n\u001b[0m\u001b[0;32m     93\u001b[0m     \u001b[0mX\u001b[0m \u001b[1;33m/=\u001b[0m \u001b[0mX\u001b[0m\u001b[1;33m.\u001b[0m\u001b[0msum\u001b[0m\u001b[1;33m(\u001b[0m\u001b[0maxis\u001b[0m\u001b[1;33m=\u001b[0m\u001b[1;36m1\u001b[0m\u001b[1;33m)\u001b[0m\u001b[1;33m[\u001b[0m\u001b[1;33m:\u001b[0m\u001b[1;33m,\u001b[0m \u001b[0mnp\u001b[0m\u001b[1;33m.\u001b[0m\u001b[0mnewaxis\u001b[0m\u001b[1;33m]\u001b[0m\u001b[1;33m\u001b[0m\u001b[0m\n\u001b[0;32m     94\u001b[0m \u001b[1;33m\u001b[0m\u001b[0m\n",
      "\u001b[1;31mKeyboardInterrupt\u001b[0m: "
     ]
    }
   ],
   "source": [
    "# X_train, X_val, y_train, y_val = train_test_split(X, y, stratify = y, test_size = 0.1)\n",
    "warm_mlp = MLPClassifier(hidden_layer_sizes=(200,), max_iter=1, alpha=1e-4,\n",
    "            solver='sgd', verbose=10, tol=1e-4, random_state=None,\n",
    "            learning_rate='adaptive', learning_rate_init=.001,\n",
    "            warm_start=True)\n",
    "\n",
    "val_scores = []\n",
    "losses = []\n",
    "clfs = []\n",
    "for i in range(1,4000):\n",
    "    warm_mlp.fit(X_train,y_train)\n",
    "    val_score = warm_mlp.score(X_val, y_val)\n",
    "    \n",
    "    val_scores.append(val_score)\n",
    "    losses.append(warm_mlp.loss_)\n",
    "    if(val_score > 0.7):\n",
    "        clfs.append(deepcopy(warm_mlp))\n",
    "    \n",
    "    print(\"Val score:\", val_score)\n",
    "\n",
    "from sklearn.externals import joblib\n",
    "joblib.dump(clfs, 'clfs_250features.pkl') "
   ]
  },
  {
   "cell_type": "code",
   "execution_count": 25,
   "metadata": {},
   "outputs": [
    {
     "ename": "AttributeError",
     "evalue": "'LogisticRegression' object has no attribute 'n_iter_'",
     "output_type": "error",
     "traceback": [
      "\u001b[1;31m---------------------------------------------------------------------------\u001b[0m",
      "\u001b[1;31mAttributeError\u001b[0m                            Traceback (most recent call last)",
      "\u001b[1;32m<ipython-input-25-25306f0d5028>\u001b[0m in \u001b[0;36m<module>\u001b[1;34m()\u001b[0m\n\u001b[1;32m----> 1\u001b[1;33m \u001b[0mlr\u001b[0m\u001b[1;33m.\u001b[0m\u001b[0mn_iter_\u001b[0m\u001b[1;33m\u001b[0m\u001b[0m\n\u001b[0m",
      "\u001b[1;31mAttributeError\u001b[0m: 'LogisticRegression' object has no attribute 'n_iter_'"
     ]
    }
   ],
   "source": [
    "from keras.preprocessing.image import ImageDataGenerator\n",
    "\n",
    "train_datagen = ImageDataGenerator(\n",
    "        rescale=1./255,\n",
    "        shear_range=0.2,\n",
    "        zoom_range=0.2,\n",
    "        horizontal_flip=True)\n",
    "\n",
    "# test_datagen = ImageDataGenerator(rescale=1./255)\n",
    "\n",
    "# train_generator = train_datagen.flow_from_directory(\n",
    "#         'data/train',\n",
    "#         target_size=(150, 150),\n",
    "#         batch_size=32,\n",
    "#         class_mode='binary')\n",
    "\n",
    "# validation_generator = test_datagen.flow_from_directory(\n",
    "#         'data/validation',\n",
    "#         target_size=(150, 150),\n",
    "#         batch_size=32,\n",
    "#         class_mode='binary')\n",
    "\n",
    "# train_generator.flow(x, y=None, batch_size=32, shuffle=True, seed=None, save_to_dir='./gen_test', save_prefix='', save_format='png', subset=None)\n",
    "iterator = train_datagen.flow_from_directory('data/valid', target_size=(244, 244), color_mode='rgb', classes=None, class_mode='categorical', batch_size=32, shuffle=True, \n",
    "                                    seed=None, save_to_dir='gen_test', save_prefix='', save_format='png', follow_links=False, subset=None, interpolation='nearest')\n",
    "\n",
    "for i in iterator:\n",
    "    print(i)"
   ]
  }
 ],
 "metadata": {
  "kernelspec": {
   "display_name": "Python 3",
   "language": "python",
   "name": "python3"
  },
  "language_info": {
   "codemirror_mode": {
    "name": "ipython",
    "version": 3
   },
   "file_extension": ".py",
   "mimetype": "text/x-python",
   "name": "python",
   "nbconvert_exporter": "python",
   "pygments_lexer": "ipython3",
   "version": "3.6.1"
  }
 },
 "nbformat": 4,
 "nbformat_minor": 2
}
